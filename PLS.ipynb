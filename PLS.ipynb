{
 "cells": [
  {
   "cell_type": "code",
   "execution_count": 1,
   "metadata": {},
   "outputs": [],
   "source": [
    "import numpy as np\n",
    "import csv\n",
    "import pandas as pd\n",
    "import matplotlib.pyplot as plt\n",
    "plt.rcParams.update({'font.size': 14})\n",
    "\n",
    "from sklearn.cross_decomposition import PLSRegression, PLSCanonical\n",
    "from sklearn.metrics import mean_squared_error, r2_score\n",
    "from sklearn.model_selection import cross_val_predict, cross_val_score\n",
    "\n",
    "from sys import stdout\n",
    "\n",
    "from helpers import *"
   ]
  },
  {
   "cell_type": "code",
   "execution_count": 2,
   "metadata": {},
   "outputs": [],
   "source": [
    "import warnings\n",
    "warnings.filterwarnings(\"ignore\")"
   ]
  },
  {
   "cell_type": "code",
   "execution_count": 3,
   "metadata": {},
   "outputs": [],
   "source": [
    "ROOT_FOLDER = \"../\"\n",
    "DATA_FOLDER = \"data/processed/\"\n",
    "\n",
    "INPUT_LAB_SPEC_TRAIN = ROOT_FOLDER + DATA_FOLDER + \"input_lab_spec_train.csv\"\n",
    "INPUT_LAB_SPEC_TEST = ROOT_FOLDER + DATA_FOLDER + \"input_lab_spec_test.csv\"\n",
    "\n",
    "INPUT_LAB_CONC_TRAIN = ROOT_FOLDER + DATA_FOLDER + \"input_lab_conc_train.csv\"\n",
    "INPUT_LAB_CONC_TEST = ROOT_FOLDER + DATA_FOLDER + \"input_lab_conc_test.csv\"\n",
    "\n",
    "INPUT_AMB_SPEC = ROOT_FOLDER + DATA_FOLDER + \"input_amb_spec.csv\"\n",
    "INPUT_AMB_CONC = ROOT_FOLDER + DATA_FOLDER + \"input_amb_conc.csv\""
   ]
  },
  {
   "cell_type": "markdown",
   "metadata": {},
   "source": [
    "# Loading the data"
   ]
  },
  {
   "cell_type": "code",
   "execution_count": 4,
   "metadata": {},
   "outputs": [
    {
     "name": "stdout",
     "output_type": "stream",
     "text": [
      "Train :\n",
      "\n",
      "(144, 2784)\n",
      "(144,)\n",
      "\n",
      "Test :\n",
      "\n",
      "(74, 2784)\n",
      "(74,)\n"
     ]
    }
   ],
   "source": [
    "# Import Laboratory data\n",
    "\n",
    "file_lab_spec_train = pd.read_csv(INPUT_LAB_SPEC_TRAIN, header=None)\n",
    "file_lab_spec_test = pd.read_csv(INPUT_LAB_SPEC_TEST, header=None)\n",
    "file_lab_conc_train = pd.read_csv(INPUT_LAB_CONC_TRAIN, header=None)\n",
    "file_lab_conc_test = pd.read_csv(INPUT_LAB_CONC_TEST, header=None)\n",
    "\n",
    "X_lab_train = pd.DataFrame(file_lab_spec_train).values.T\n",
    "y_lab_train = pd.DataFrame(file_lab_conc_train).values.ravel()\n",
    "\n",
    "X_lab_test = pd.DataFrame(file_lab_spec_test).values.T\n",
    "y_lab_test = pd.DataFrame(file_lab_conc_test).values.ravel()\n",
    "\n",
    "print(\"Train :\\n\")\n",
    "print(X_lab_train.shape)\n",
    "print(y_lab_train.shape)\n",
    "print(\"\\nTest :\\n\")\n",
    "print(X_lab_test.shape)\n",
    "print(y_lab_test.shape)"
   ]
  },
  {
   "cell_type": "code",
   "execution_count": 5,
   "metadata": {},
   "outputs": [
    {
     "name": "stdout",
     "output_type": "stream",
     "text": [
      "(2230, 2784)\n",
      "(2230,)\n"
     ]
    }
   ],
   "source": [
    "# Import Ambient data\n",
    "\n",
    "file_amb_spec = pd.read_csv(INPUT_AMB_SPEC, header=None)\n",
    "file_amb_conc = pd.read_csv(INPUT_AMB_CONC, header=None)\n",
    "\n",
    "X_amb = pd.DataFrame(file_amb_spec).values.T\n",
    "y_amb = pd.DataFrame(file_amb_conc).values.ravel()\n",
    "\n",
    "print(X_amb.shape)\n",
    "print(y_amb.shape)"
   ]
  },
  {
   "cell_type": "markdown",
   "metadata": {},
   "source": [
    "# Partial Least Squares"
   ]
  },
  {
   "cell_type": "markdown",
   "metadata": {},
   "source": [
    "## Part I : Build model and use CV to determine optimal parameter"
   ]
  },
  {
   "cell_type": "code",
   "execution_count": 6,
   "metadata": {},
   "outputs": [],
   "source": [
    "# Define PLS model using NIPALS algorithm\n",
    "pls = PLSRegression(n_components=10, scale=False, tol=1e-6, max_iter=500)\n",
    "pls.fit(X_lab_train, y_lab_train)\n",
    "\n",
    "# Cross-validation using venetian blind\n",
    "nb_fold = 10\n",
    "indices_venet = build_k_indices(y_lab_train, nb_fold)\n",
    "score_cv = cross_val_score(pls, X_lab_train, y_lab_train, cv=indices_venet, \\\n",
    "                           scoring='neg_mean_squared_error') # Calculate scores"
   ]
  },
  {
   "cell_type": "code",
   "execution_count": 7,
   "metadata": {},
   "outputs": [],
   "source": [
    "def optimise_pls_cv(X_train, X_test, y_train, y_test, n_comp, plot_components=True):\n",
    "    \n",
    "    '''Run PLS including a variable number of components, from 1 to n_comp,\n",
    "       and calculate RMSE '''\n",
    "    \n",
    "    rmsecv = []\n",
    "    rmsep = []\n",
    "    component = np.arange(2, n_comp)\n",
    "    \n",
    "    for i in component:\n",
    "        pls = PLSRegression(n_components=i, scale=False, tol=1e-6, max_iter=500)\n",
    "        \n",
    "        # Venetian blind cross-validation\n",
    "        indices_venet = build_k_indices(y_train, nb_fold=5)\n",
    "        \n",
    "        score_cv = np.mean(cross_val_score(pls, X_train, y_train, cv=indices_venet, \\\n",
    "                                           scoring='neg_root_mean_squared_error'))\n",
    "        rmsecv.append(-score_cv)\n",
    "        \n",
    "        # Prediction\n",
    "        pls.fit(X_train, y_train)\n",
    "        y_predict = pls.predict(X_test)\n",
    "        score_p = np.sqrt(mean_squared_error(y_predict, y_test))\n",
    "        rmsep.append(score_p)\n",
    "        comp = 100*(i+1)/n_comp\n",
    "        # Trick to update status on the same line\n",
    "        stdout.write(\"\\r%d%% completed\" % comp)\n",
    "        stdout.flush()\n",
    "    stdout.write(\"\\n\")\n",
    "    \n",
    "    # Calculate and print the position of minimum in MSE\n",
    "    rmsemin = np.argmin(rmsecv)\n",
    "    print(\"Suggested number of components : \", rmsemin+1)\n",
    "    stdout.write(\"\\n\")\n",
    "    print(\"Minimum RMSECV : \", np.array(rmsecv)[rmsemin])\n",
    "    print(\"Minimum RMSEP : \", np.array(rmsep)[rmsemin])\n",
    "    \n",
    "    if plot_components is True:\n",
    "        with plt.style.context(('ggplot')):\n",
    "            plt.plot(component, np.array(rmsecv), '-+', color = 'blue', mfc='blue')\n",
    "            plt.plot(component, np.array(rmsep), '-+', color = 'green', mfc='green')\n",
    "            plt.plot(component[rmsemin], np.array(rmsecv)[rmsemin], 'P', ms=10, mfc='red')\n",
    "            plt.xlabel('Number of PLS components')\n",
    "            plt.ylabel('RMSE')\n",
    "            plt.title('PLS')\n",
    "            plt.xlim(left=-1)\n",
    "            plt.yscale('log')\n",
    "        plt.show()\n",
    "        \n",
    "    return"
   ]
  },
  {
   "cell_type": "code",
   "execution_count": 9,
   "metadata": {
    "scrolled": false
   },
   "outputs": [
    {
     "name": "stdout",
     "output_type": "stream",
     "text": [
      "100% completed\n",
      "Suggested number of components :  23\n",
      "\n",
      "Minimum RMSECV :  5.003720848957845e-15\n",
      "Minimum RMSEP :  0.7332156928067941\n"
     ]
    },
    {
     "data": {
      "image/png": "[encoded data removed]",
      "text/plain": [
       "<Figure size 432x288 with 1 Axes>"
      ]
     },
     "metadata": {},
     "output_type": "display_data"
    }
   ],
   "source": [
    "optimise_pls_cv(X_lab_train, X_lab_test, y_lab_train, y_lab_test, 50, plot_components=True)"
   ]
  },
  {
   "cell_type": "code",
   "execution_count": 27,
   "metadata": {},
   "outputs": [],
   "source": [
    "def nb_fold_cv(X_train, X_test, y_train, y_test, n_comp):\n",
    "    \n",
    "    '''Run PLS including a variable number of components, from 1 to n_comp,\n",
    "       and calculate RMSE '''\n",
    "    \n",
    "    component = np.arange(10, n_comp)\n",
    "    nb_fold = np.arange(2, 10)\n",
    "    \n",
    "    rmsecv = np.zeros((len(component), len(nb_fold)))\n",
    "    rmsep = np.zeros((len(component), len(nb_fold)))\n",
    "    \n",
    "    for f in nb_fold:\n",
    "        for i in component:\n",
    "            pls = PLSRegression(n_components=i, scale=False, tol=1e-6, max_iter=500)\n",
    "        \n",
    "            # Venetian blind cross-validation\n",
    "            indices_venet = build_k_indices(y_train, nb_fold=f)\n",
    "        \n",
    "            score_cv = np.mean(cross_val_score(pls, X_train, y_train, cv=indices_venet, \\\n",
    "                                           scoring='neg_root_mean_squared_error'))\n",
    "            rmsecv[i-10,f-2] = -score_cv\n",
    "        \n",
    "            # Prediction\n",
    "            pls.fit(X_train, y_train)\n",
    "            y_predict = pls.predict(X_test)\n",
    "            score_p = np.sqrt(mean_squared_error(y_predict, y_test))\n",
    "            \n",
    "            rmsep[i-10,f-2] = score_p\n",
    "            \n",
    "            comp = 100*(i+1)/n_comp\n",
    "            # Trick to update status on the same line\n",
    "            stdout.write(\"\\r%d%% completed\" % comp)\n",
    "            stdout.flush()\n",
    "        stdout.write(\"\\n\")\n",
    "    \n",
    "    fig, ax = plt.subplots(figsize=(10,6))\n",
    "    with plt.style.context(('ggplot')):\n",
    "        ax.plot(component, rmsecv, '-+')\n",
    "        plt.xlabel('Number of PLS components')\n",
    "        plt.ylabel('RMSE')\n",
    "        plt.title('PLS')\n",
    "        plt.xlim(left=-1)\n",
    "        plt.yscale('log')\n",
    "    plt.show()\n",
    "        \n",
    "    return"
   ]
  },
  {
   "cell_type": "code",
   "execution_count": 28,
   "metadata": {},
   "outputs": [
    {
     "name": "stdout",
     "output_type": "stream",
     "text": [
      "100% completed\n",
      "100% completed\n",
      "100% completed\n",
      "100% completed\n",
      "100% completed\n",
      "100% completed\n",
      "100% completed\n",
      "100% completed\n"
     ]
    },
    {
     "data": {
      "image/png": "[encoded data removed]",
      "text/plain": [
       "<Figure size 720x432 with 1 Axes>"
      ]
     },
     "metadata": {
      "needs_background": "light"
     },
     "output_type": "display_data"
    }
   ],
   "source": [
    "nb_fold_cv(X_lab_train, X_lab_test, y_lab_train, y_lab_test, 50)"
   ]
  },
  {
   "cell_type": "code",
   "execution_count": null,
   "metadata": {},
   "outputs": [],
   "source": []
  },
  {
   "cell_type": "markdown",
   "metadata": {},
   "source": [
    "## Part 2 : Train on laboratory samples and test on laboratory + ambient samples"
   ]
  },
  {
   "cell_type": "code",
   "execution_count": 9,
   "metadata": {},
   "outputs": [
    {
     "name": "stdout",
     "output_type": "stream",
     "text": [
      "13.279424794794053\n",
      "0.7370432925347091\n"
     ]
    }
   ],
   "source": [
    "# Define PLS model using NIPALS algorithm\n",
    "pls = PLSRegression(n_components=23, scale=False, tol=1e-6, max_iter=500)\n",
    "pls.fit(X_lab_train, y_lab_train)\n",
    "\n",
    "y_amb_predict = pls.predict(X_amb)\n",
    "rmse_amb = np.sqrt(mean_squared_error(y_amb_predict, y_amb))\n",
    "print(rmse_amb)\n",
    "\n",
    "y_lab_predict = pls.predict(X_lab_test)\n",
    "rmse_lab = np.sqrt(mean_squared_error(y_lab_predict, y_lab_test))\n",
    "print(rmse_lab)"
   ]
  },
  {
   "cell_type": "code",
   "execution_count": 10,
   "metadata": {},
   "outputs": [
    {
     "data": {
      "image/png": "[encoded data removed]",
      "text/plain": [
       "<Figure size 432x288 with 1 Axes>"
      ]
     },
     "metadata": {
      "needs_background": "light"
     },
     "output_type": "display_data"
    }
   ],
   "source": [
    "# Fit a line between reference and prediction\n",
    "\n",
    "fig = plt.figure()\n",
    "# z = np.polyfit(y_ref, y_pred, 1)\n",
    "plt.scatter(y_lab_test, y_lab_predict, c='red', label='lab')\n",
    "plt.scatter(y_amb, y_amb_predict, c='blue', label='amb')\n",
    "#Plot the best fit line\n",
    "# plt.plot(y_ref, np.polyval(z, y_ref), c='green', linewidth=1, label='fit')\n",
    "plt.plot(y_lab_test, y_lab_test, color='black', linewidth=1, label='$y=x$') # line y = x \n",
    "plt.xlabel('Reference [$\\mu$g/cm²]')\n",
    "plt.ylabel('Prediction [$\\mu$g/cm²]')\n",
    "plt.legend()\n",
    "plt.title('PLS on lab and amb samples')\n",
    "plt.show()"
   ]
  },
  {
   "cell_type": "code",
   "execution_count": 11,
   "metadata": {},
   "outputs": [],
   "source": [
    "fig.savefig('model_fits.png', dpi=100, bbox_inches = \"tight\")"
   ]
  },
  {
   "cell_type": "markdown",
   "metadata": {},
   "source": [
    "## Part 3 : Train on ambient samples and test on ambient + laboratory samples"
   ]
  },
  {
   "cell_type": "code",
   "execution_count": 17,
   "metadata": {},
   "outputs": [],
   "source": [
    "from sklearn.model_selection import train_test_split\n",
    "\n",
    "# Not the best way to do it, but it is only to get a result.\n",
    "X_amb_train, X_amb_test, y_amb_train, y_amb_test = train_test_split(X_amb, y_amb, test_size=0.2, random_state=42)"
   ]
  },
  {
   "cell_type": "code",
   "execution_count": 18,
   "metadata": {},
   "outputs": [
    {
     "name": "stdout",
     "output_type": "stream",
     "text": [
      "3.7168608985096325\n",
      "33.72264297925735\n"
     ]
    }
   ],
   "source": [
    "# Define PLS model using NIPALS algorithm\n",
    "pls = PLSRegression(n_components=23, scale=False, tol=1e-6, max_iter=500)\n",
    "pls.fit(X_amb_train, y_amb_train)\n",
    "\n",
    "y_amb_predict = pls.predict(X_amb_test)\n",
    "rmse_amb = np.sqrt(mean_squared_error(y_amb_predict, y_amb_test))\n",
    "print(rmse_amb)\n",
    "\n",
    "y_lab_predict = pls.predict(X_lab_test)\n",
    "rmse_lab = np.sqrt(mean_squared_error(y_lab_predict, y_lab_test))\n",
    "print(rmse_lab)"
   ]
  },
  {
   "cell_type": "code",
   "execution_count": 19,
   "metadata": {},
   "outputs": [
    {
     "data": {
      "image/png": "[encoded data removed]",
      "text/plain": [
       "<Figure size 432x288 with 1 Axes>"
      ]
     },
     "metadata": {
      "needs_background": "light"
     },
     "output_type": "display_data"
    }
   ],
   "source": [
    "# Plot prediction vs reference\n",
    "plt.scatter(y_lab_test, y_lab_predict, c='red', label='lab')\n",
    "plt.scatter(y_amb_test, y_amb_predict, c='blue', label='amb')\n",
    "plt.plot(y_amb_test, y_amb_test, color='black', linewidth=1, label='$y=x$') # line y = x \n",
    "plt.xlabel('Reference [$\\mu$g/cm²]')\n",
    "plt.ylabel('Prediction [$\\mu$g/cm²]')\n",
    "plt.legend()\n",
    "plt.title('PLS on lab and amb samples')\n",
    "plt.show()"
   ]
  },
  {
   "cell_type": "code",
   "execution_count": 63,
   "metadata": {},
   "outputs": [],
   "source": [
    "fig.savefig('model_fits.png', dpi=100, bbox_inches = \"tight\")"
   ]
  },
  {
   "cell_type": "code",
   "execution_count": null,
   "metadata": {},
   "outputs": [],
   "source": []
  }
 ],
 "metadata": {
  "kernelspec": {
   "display_name": "Python 3",
   "language": "python",
   "name": "python3"
  },
  "language_info": {
   "codemirror_mode": {
    "name": "ipython",
    "version": 3
   },
   "file_extension": ".py",
   "mimetype": "text/x-python",
   "name": "python",
   "nbconvert_exporter": "python",
   "pygments_lexer": "ipython3",
   "version": "3.7.3"
  }
 },
 "nbformat": 4,
 "nbformat_minor": 2
}
