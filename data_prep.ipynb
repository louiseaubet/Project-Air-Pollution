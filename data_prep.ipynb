{
 "cells": [
  {
   "cell_type": "markdown",
   "metadata": {},
   "source": [
    "# Data pre-processing"
   ]
  },
  {
   "cell_type": "code",
   "execution_count": 1,
   "metadata": {},
   "outputs": [],
   "source": [
    "import numpy as np\n",
    "import csv\n",
    "import pandas as pd\n",
    "import matplotlib.pyplot as plt"
   ]
  },
  {
   "cell_type": "code",
   "execution_count": 2,
   "metadata": {},
   "outputs": [],
   "source": [
    "# Input files\n",
    "\n",
    "ROOT_FOLDER = \"../\"\n",
    "DATA_FOLDER = \"data/raw/\"\n",
    "\n",
    "DATA_PATH_AMB_SPEC = ROOT_FOLDER + DATA_FOLDER + \"IMPROVE_2011-2013_filterSubtractionV2.csv\"\n",
    "DATA_PATH_AMB_CONC = ROOT_FOLDER + DATA_FOLDER + \"IMPROVE_2011_2013_XRF_OC_ions_mug_cm2.csv\"\n",
    "DATA_PATH_LAB_SPEC = ROOT_FOLDER + DATA_FOLDER + \"matched_std_2784_baselined_filter_subtracted.csv\"\n",
    "DATA_PATH_LAB_CONC = ROOT_FOLDER + DATA_FOLDER + \"FG_Ruthenburg_std_responses.csv\""
   ]
  },
  {
   "cell_type": "code",
   "execution_count": 11,
   "metadata": {},
   "outputs": [],
   "source": [
    "# Output files\n",
    "\n",
    "DATA_FOLDER = \"data/processed/\"\n",
    "\n",
    "# Processed files\n",
    "PROCESS_AMB_SPEC = ROOT_FOLDER + DATA_FOLDER + \"data_amb_spec_clean.csv\"\n",
    "PROCESS_AMB_CONC = ROOT_FOLDER + DATA_FOLDER + \"data_amb_conc_clean.csv\"\n",
    "PROCESS_LAB_SPEC = ROOT_FOLDER + DATA_FOLDER + \"data_lab_spec_clean.csv\"\n",
    "PROCESS_LAB_CONC = ROOT_FOLDER + DATA_FOLDER + \"data_lab_conc_clean.csv\"\n",
    "\n",
    "## \n",
    "\n",
    "# Files with numerical values only, to use as input for models + files with sites label only\n",
    "OUTPUT_AMB_SPEC = ROOT_FOLDER + DATA_FOLDER + \"input_amb_spec.csv\"\n",
    "OUTPUT_AMB_CONC = ROOT_FOLDER + DATA_FOLDER + \"input_amb_conc.csv\"\n",
    "\n",
    "OUTPUT_LAB_SPEC_TRAIN = ROOT_FOLDER + DATA_FOLDER + \"input_lab_spec_train.csv\"\n",
    "OUTPUT_LAB_SPEC_TEST = ROOT_FOLDER + DATA_FOLDER + \"input_lab_spec_test.csv\"\n",
    "OUTPUT_LAB_CONC_TRAIN = ROOT_FOLDER + DATA_FOLDER + \"input_lab_conc_train.csv\"\n",
    "OUTPUT_LAB_CONC_TEST = ROOT_FOLDER + DATA_FOLDER + \"input_lab_conc_test.csv\"\n",
    "\n",
    "INDEX_LAB_CONC_TRAIN = ROOT_FOLDER + DATA_FOLDER + \"index_lab_conc_train.csv\"\n",
    "INDEX_LAB_CONC_TEST = ROOT_FOLDER + DATA_FOLDER + \"index_lab_conc_test.csv\""
   ]
  },
  {
   "cell_type": "markdown",
   "metadata": {},
   "source": [
    "# I. Ambient samples : spectra"
   ]
  },
  {
   "cell_type": "code",
   "execution_count": 3,
   "metadata": {},
   "outputs": [],
   "source": [
    "# Import data\n",
    "file = pd.read_csv(DATA_PATH_AMB_SPEC, index_col=\"Unnamed: 0\")\n",
    "data_amb_spec = pd.DataFrame(file)"
   ]
  },
  {
   "cell_type": "code",
   "execution_count": 4,
   "metadata": {
    "scrolled": false
   },
   "outputs": [
    {
     "data": {
      "text/html": [
       "<div>\n",
       "<style scoped>\n",
       "    .dataframe tbody tr th:only-of-type {\n",
       "        vertical-align: middle;\n",
       "    }\n",
       "\n",
       "    .dataframe tbody tr th {\n",
       "        vertical-align: top;\n",
       "    }\n",
       "\n",
       "    .dataframe thead th {\n",
       "        text-align: right;\n",
       "    }\n",
       "</style>\n",
       "<table border=\"1\" class=\"dataframe\">\n",
       "  <thead>\n",
       "    <tr style=\"text-align: right;\">\n",
       "      <th></th>\n",
       "      <th>Wavenumber</th>\n",
       "      <th>MEVEX_20110103</th>\n",
       "      <th>MEVEX_20110106</th>\n",
       "      <th>MEVEX_20110109</th>\n",
       "      <th>MEVEX_20110112</th>\n",
       "      <th>MEVEX_20110115</th>\n",
       "      <th>MEVEX_20110118</th>\n",
       "      <th>MEVEX_20110121</th>\n",
       "      <th>MEVEX_20110124</th>\n",
       "      <th>MEVEX_20110127</th>\n",
       "      <th>...</th>\n",
       "      <th>YOSEX_20131203</th>\n",
       "      <th>YOSEX_20131206</th>\n",
       "      <th>YOSEX_20131209</th>\n",
       "      <th>YOSEX_20131212</th>\n",
       "      <th>YOSEX_20131215</th>\n",
       "      <th>YOSEX_20131218</th>\n",
       "      <th>YOSEX_20131221</th>\n",
       "      <th>YOSEX_20131224</th>\n",
       "      <th>YOSEX_20131227</th>\n",
       "      <th>YOSEX_20131230</th>\n",
       "    </tr>\n",
       "  </thead>\n",
       "  <tbody>\n",
       "    <tr>\n",
       "      <th>1</th>\n",
       "      <td>3998.423206</td>\n",
       "      <td>-0.001106</td>\n",
       "      <td>-0.001221</td>\n",
       "      <td>-0.000841</td>\n",
       "      <td>-0.000614</td>\n",
       "      <td>-0.000902</td>\n",
       "      <td>-0.000979</td>\n",
       "      <td>-0.001136</td>\n",
       "      <td>-0.001813</td>\n",
       "      <td>-0.000567</td>\n",
       "      <td>...</td>\n",
       "      <td>-0.000565</td>\n",
       "      <td>-0.000794</td>\n",
       "      <td>-0.000463</td>\n",
       "      <td>-0.000672</td>\n",
       "      <td>-0.000570</td>\n",
       "      <td>-0.000612</td>\n",
       "      <td>-0.000366</td>\n",
       "      <td>-0.000744</td>\n",
       "      <td>-0.000516</td>\n",
       "      <td>-0.000481</td>\n",
       "    </tr>\n",
       "    <tr>\n",
       "      <th>2</th>\n",
       "      <td>3997.137539</td>\n",
       "      <td>-0.001102</td>\n",
       "      <td>-0.001202</td>\n",
       "      <td>-0.000820</td>\n",
       "      <td>-0.000601</td>\n",
       "      <td>-0.000895</td>\n",
       "      <td>-0.000968</td>\n",
       "      <td>-0.001127</td>\n",
       "      <td>-0.001799</td>\n",
       "      <td>-0.000562</td>\n",
       "      <td>...</td>\n",
       "      <td>-0.000549</td>\n",
       "      <td>-0.000786</td>\n",
       "      <td>-0.000449</td>\n",
       "      <td>-0.000654</td>\n",
       "      <td>-0.000555</td>\n",
       "      <td>-0.000599</td>\n",
       "      <td>-0.000359</td>\n",
       "      <td>-0.000726</td>\n",
       "      <td>-0.000499</td>\n",
       "      <td>-0.000476</td>\n",
       "    </tr>\n",
       "    <tr>\n",
       "      <th>3</th>\n",
       "      <td>3995.851872</td>\n",
       "      <td>-0.001093</td>\n",
       "      <td>-0.001194</td>\n",
       "      <td>-0.000805</td>\n",
       "      <td>-0.000585</td>\n",
       "      <td>-0.000881</td>\n",
       "      <td>-0.000957</td>\n",
       "      <td>-0.001116</td>\n",
       "      <td>-0.001772</td>\n",
       "      <td>-0.000554</td>\n",
       "      <td>...</td>\n",
       "      <td>-0.000540</td>\n",
       "      <td>-0.000775</td>\n",
       "      <td>-0.000438</td>\n",
       "      <td>-0.000640</td>\n",
       "      <td>-0.000545</td>\n",
       "      <td>-0.000584</td>\n",
       "      <td>-0.000356</td>\n",
       "      <td>-0.000713</td>\n",
       "      <td>-0.000488</td>\n",
       "      <td>-0.000469</td>\n",
       "    </tr>\n",
       "    <tr>\n",
       "      <th>4</th>\n",
       "      <td>3994.566206</td>\n",
       "      <td>-0.001076</td>\n",
       "      <td>-0.001191</td>\n",
       "      <td>-0.000796</td>\n",
       "      <td>-0.000574</td>\n",
       "      <td>-0.000865</td>\n",
       "      <td>-0.000949</td>\n",
       "      <td>-0.001105</td>\n",
       "      <td>-0.001738</td>\n",
       "      <td>-0.000551</td>\n",
       "      <td>...</td>\n",
       "      <td>-0.000540</td>\n",
       "      <td>-0.000760</td>\n",
       "      <td>-0.000430</td>\n",
       "      <td>-0.000628</td>\n",
       "      <td>-0.000539</td>\n",
       "      <td>-0.000568</td>\n",
       "      <td>-0.000356</td>\n",
       "      <td>-0.000705</td>\n",
       "      <td>-0.000482</td>\n",
       "      <td>-0.000457</td>\n",
       "    </tr>\n",
       "    <tr>\n",
       "      <th>5</th>\n",
       "      <td>3993.280539</td>\n",
       "      <td>-0.001051</td>\n",
       "      <td>-0.001181</td>\n",
       "      <td>-0.000788</td>\n",
       "      <td>-0.000569</td>\n",
       "      <td>-0.000850</td>\n",
       "      <td>-0.000943</td>\n",
       "      <td>-0.001094</td>\n",
       "      <td>-0.001703</td>\n",
       "      <td>-0.000555</td>\n",
       "      <td>...</td>\n",
       "      <td>-0.000543</td>\n",
       "      <td>-0.000742</td>\n",
       "      <td>-0.000422</td>\n",
       "      <td>-0.000618</td>\n",
       "      <td>-0.000535</td>\n",
       "      <td>-0.000551</td>\n",
       "      <td>-0.000355</td>\n",
       "      <td>-0.000700</td>\n",
       "      <td>-0.000479</td>\n",
       "      <td>-0.000444</td>\n",
       "    </tr>\n",
       "  </tbody>\n",
       "</table>\n",
       "<p>5 rows × 3055 columns</p>\n",
       "</div>"
      ],
      "text/plain": [
       "    Wavenumber  MEVEX_20110103  MEVEX_20110106  MEVEX_20110109  \\\n",
       "1  3998.423206       -0.001106       -0.001221       -0.000841   \n",
       "2  3997.137539       -0.001102       -0.001202       -0.000820   \n",
       "3  3995.851872       -0.001093       -0.001194       -0.000805   \n",
       "4  3994.566206       -0.001076       -0.001191       -0.000796   \n",
       "5  3993.280539       -0.001051       -0.001181       -0.000788   \n",
       "\n",
       "   MEVEX_20110112  MEVEX_20110115  MEVEX_20110118  MEVEX_20110121  \\\n",
       "1       -0.000614       -0.000902       -0.000979       -0.001136   \n",
       "2       -0.000601       -0.000895       -0.000968       -0.001127   \n",
       "3       -0.000585       -0.000881       -0.000957       -0.001116   \n",
       "4       -0.000574       -0.000865       -0.000949       -0.001105   \n",
       "5       -0.000569       -0.000850       -0.000943       -0.001094   \n",
       "\n",
       "   MEVEX_20110124  MEVEX_20110127  ...  YOSEX_20131203  YOSEX_20131206  \\\n",
       "1       -0.001813       -0.000567  ...       -0.000565       -0.000794   \n",
       "2       -0.001799       -0.000562  ...       -0.000549       -0.000786   \n",
       "3       -0.001772       -0.000554  ...       -0.000540       -0.000775   \n",
       "4       -0.001738       -0.000551  ...       -0.000540       -0.000760   \n",
       "5       -0.001703       -0.000555  ...       -0.000543       -0.000742   \n",
       "\n",
       "   YOSEX_20131209  YOSEX_20131212  YOSEX_20131215  YOSEX_20131218  \\\n",
       "1       -0.000463       -0.000672       -0.000570       -0.000612   \n",
       "2       -0.000449       -0.000654       -0.000555       -0.000599   \n",
       "3       -0.000438       -0.000640       -0.000545       -0.000584   \n",
       "4       -0.000430       -0.000628       -0.000539       -0.000568   \n",
       "5       -0.000422       -0.000618       -0.000535       -0.000551   \n",
       "\n",
       "   YOSEX_20131221  YOSEX_20131224  YOSEX_20131227  YOSEX_20131230  \n",
       "1       -0.000366       -0.000744       -0.000516       -0.000481  \n",
       "2       -0.000359       -0.000726       -0.000499       -0.000476  \n",
       "3       -0.000356       -0.000713       -0.000488       -0.000469  \n",
       "4       -0.000356       -0.000705       -0.000482       -0.000457  \n",
       "5       -0.000355       -0.000700       -0.000479       -0.000444  \n",
       "\n",
       "[5 rows x 3055 columns]"
      ]
     },
     "execution_count": 4,
     "metadata": {},
     "output_type": "execute_result"
    }
   ],
   "source": [
    "data_amb_spec.head()"
   ]
  },
  {
   "cell_type": "code",
   "execution_count": 5,
   "metadata": {},
   "outputs": [
    {
     "data": {
      "text/html": [
       "<div>\n",
       "<style scoped>\n",
       "    .dataframe tbody tr th:only-of-type {\n",
       "        vertical-align: middle;\n",
       "    }\n",
       "\n",
       "    .dataframe tbody tr th {\n",
       "        vertical-align: top;\n",
       "    }\n",
       "\n",
       "    .dataframe thead th {\n",
       "        text-align: right;\n",
       "    }\n",
       "</style>\n",
       "<table border=\"1\" class=\"dataframe\">\n",
       "  <thead>\n",
       "    <tr style=\"text-align: right;\">\n",
       "      <th></th>\n",
       "      <th>Wavenumber</th>\n",
       "      <th>MEVEX_20110103</th>\n",
       "      <th>MEVEX_20110106</th>\n",
       "      <th>MEVEX_20110109</th>\n",
       "      <th>MEVEX_20110112</th>\n",
       "      <th>MEVEX_20110115</th>\n",
       "      <th>MEVEX_20110118</th>\n",
       "      <th>MEVEX_20110121</th>\n",
       "      <th>MEVEX_20110124</th>\n",
       "      <th>MEVEX_20110127</th>\n",
       "      <th>...</th>\n",
       "      <th>YOSEX_20131203</th>\n",
       "      <th>YOSEX_20131206</th>\n",
       "      <th>YOSEX_20131209</th>\n",
       "      <th>YOSEX_20131212</th>\n",
       "      <th>YOSEX_20131215</th>\n",
       "      <th>YOSEX_20131218</th>\n",
       "      <th>YOSEX_20131221</th>\n",
       "      <th>YOSEX_20131224</th>\n",
       "      <th>YOSEX_20131227</th>\n",
       "      <th>YOSEX_20131230</th>\n",
       "    </tr>\n",
       "  </thead>\n",
       "  <tbody>\n",
       "    <tr>\n",
       "      <th>count</th>\n",
       "      <td>2784.000000</td>\n",
       "      <td>2784.000000</td>\n",
       "      <td>2784.000000</td>\n",
       "      <td>2784.000000</td>\n",
       "      <td>2784.000000</td>\n",
       "      <td>2784.000000</td>\n",
       "      <td>2784.000000</td>\n",
       "      <td>2784.000000</td>\n",
       "      <td>2784.000000</td>\n",
       "      <td>2784.000000</td>\n",
       "      <td>...</td>\n",
       "      <td>2784.000000</td>\n",
       "      <td>2784.000000</td>\n",
       "      <td>2784.000000</td>\n",
       "      <td>2784.000000</td>\n",
       "      <td>2784.000000</td>\n",
       "      <td>2784.000000</td>\n",
       "      <td>2784.000000</td>\n",
       "      <td>2784.000000</td>\n",
       "      <td>2784.000000</td>\n",
       "      <td>2784.000000</td>\n",
       "    </tr>\n",
       "    <tr>\n",
       "      <th>mean</th>\n",
       "      <td>2209.418096</td>\n",
       "      <td>0.002478</td>\n",
       "      <td>0.007629</td>\n",
       "      <td>0.003872</td>\n",
       "      <td>0.000755</td>\n",
       "      <td>0.002846</td>\n",
       "      <td>0.001433</td>\n",
       "      <td>0.001013</td>\n",
       "      <td>0.003287</td>\n",
       "      <td>0.001430</td>\n",
       "      <td>...</td>\n",
       "      <td>0.001695</td>\n",
       "      <td>0.005704</td>\n",
       "      <td>0.001430</td>\n",
       "      <td>0.001287</td>\n",
       "      <td>0.000852</td>\n",
       "      <td>0.002539</td>\n",
       "      <td>0.002858</td>\n",
       "      <td>0.001604</td>\n",
       "      <td>0.001278</td>\n",
       "      <td>0.002211</td>\n",
       "    </tr>\n",
       "    <tr>\n",
       "      <th>std</th>\n",
       "      <td>1033.439275</td>\n",
       "      <td>0.003319</td>\n",
       "      <td>0.012120</td>\n",
       "      <td>0.005527</td>\n",
       "      <td>0.003788</td>\n",
       "      <td>0.004476</td>\n",
       "      <td>0.002169</td>\n",
       "      <td>0.002260</td>\n",
       "      <td>0.005699</td>\n",
       "      <td>0.003522</td>\n",
       "      <td>...</td>\n",
       "      <td>0.003481</td>\n",
       "      <td>0.007803</td>\n",
       "      <td>0.003058</td>\n",
       "      <td>0.002604</td>\n",
       "      <td>0.002878</td>\n",
       "      <td>0.003606</td>\n",
       "      <td>0.004685</td>\n",
       "      <td>0.002809</td>\n",
       "      <td>0.002535</td>\n",
       "      <td>0.003416</td>\n",
       "    </tr>\n",
       "    <tr>\n",
       "      <th>min</th>\n",
       "      <td>420.412987</td>\n",
       "      <td>-0.004422</td>\n",
       "      <td>-0.018882</td>\n",
       "      <td>-0.004202</td>\n",
       "      <td>-0.034893</td>\n",
       "      <td>-0.012253</td>\n",
       "      <td>-0.002799</td>\n",
       "      <td>-0.015570</td>\n",
       "      <td>-0.018276</td>\n",
       "      <td>-0.023975</td>\n",
       "      <td>...</td>\n",
       "      <td>-0.022894</td>\n",
       "      <td>-0.022639</td>\n",
       "      <td>-0.018697</td>\n",
       "      <td>-0.016382</td>\n",
       "      <td>-0.023044</td>\n",
       "      <td>-0.016786</td>\n",
       "      <td>-0.023560</td>\n",
       "      <td>-0.016820</td>\n",
       "      <td>-0.018239</td>\n",
       "      <td>-0.019490</td>\n",
       "    </tr>\n",
       "    <tr>\n",
       "      <th>25%</th>\n",
       "      <td>1314.915541</td>\n",
       "      <td>0.000033</td>\n",
       "      <td>0.000153</td>\n",
       "      <td>0.000060</td>\n",
       "      <td>-0.000039</td>\n",
       "      <td>0.000013</td>\n",
       "      <td>0.000036</td>\n",
       "      <td>-0.000008</td>\n",
       "      <td>0.000106</td>\n",
       "      <td>-0.000092</td>\n",
       "      <td>...</td>\n",
       "      <td>0.000032</td>\n",
       "      <td>0.000267</td>\n",
       "      <td>0.000030</td>\n",
       "      <td>0.000065</td>\n",
       "      <td>-0.000002</td>\n",
       "      <td>0.000112</td>\n",
       "      <td>0.000045</td>\n",
       "      <td>0.000114</td>\n",
       "      <td>0.000088</td>\n",
       "      <td>0.000144</td>\n",
       "    </tr>\n",
       "    <tr>\n",
       "      <th>50%</th>\n",
       "      <td>2209.418096</td>\n",
       "      <td>0.001226</td>\n",
       "      <td>0.002561</td>\n",
       "      <td>0.001623</td>\n",
       "      <td>0.000450</td>\n",
       "      <td>0.001121</td>\n",
       "      <td>0.000686</td>\n",
       "      <td>0.000540</td>\n",
       "      <td>0.001375</td>\n",
       "      <td>0.000499</td>\n",
       "      <td>...</td>\n",
       "      <td>0.000922</td>\n",
       "      <td>0.002763</td>\n",
       "      <td>0.000663</td>\n",
       "      <td>0.000627</td>\n",
       "      <td>0.000506</td>\n",
       "      <td>0.001316</td>\n",
       "      <td>0.001378</td>\n",
       "      <td>0.000825</td>\n",
       "      <td>0.000779</td>\n",
       "      <td>0.001392</td>\n",
       "    </tr>\n",
       "    <tr>\n",
       "      <th>75%</th>\n",
       "      <td>3103.920651</td>\n",
       "      <td>0.003776</td>\n",
       "      <td>0.008820</td>\n",
       "      <td>0.005196</td>\n",
       "      <td>0.002017</td>\n",
       "      <td>0.004135</td>\n",
       "      <td>0.002288</td>\n",
       "      <td>0.001827</td>\n",
       "      <td>0.005028</td>\n",
       "      <td>0.002163</td>\n",
       "      <td>...</td>\n",
       "      <td>0.003092</td>\n",
       "      <td>0.008661</td>\n",
       "      <td>0.002526</td>\n",
       "      <td>0.002221</td>\n",
       "      <td>0.001782</td>\n",
       "      <td>0.003938</td>\n",
       "      <td>0.005227</td>\n",
       "      <td>0.002735</td>\n",
       "      <td>0.002305</td>\n",
       "      <td>0.003640</td>\n",
       "    </tr>\n",
       "    <tr>\n",
       "      <th>max</th>\n",
       "      <td>3998.423206</td>\n",
       "      <td>0.011784</td>\n",
       "      <td>0.066208</td>\n",
       "      <td>0.026547</td>\n",
       "      <td>0.007968</td>\n",
       "      <td>0.015947</td>\n",
       "      <td>0.013937</td>\n",
       "      <td>0.008819</td>\n",
       "      <td>0.036242</td>\n",
       "      <td>0.012822</td>\n",
       "      <td>...</td>\n",
       "      <td>0.021287</td>\n",
       "      <td>0.038668</td>\n",
       "      <td>0.022145</td>\n",
       "      <td>0.021931</td>\n",
       "      <td>0.022472</td>\n",
       "      <td>0.022211</td>\n",
       "      <td>0.025666</td>\n",
       "      <td>0.020729</td>\n",
       "      <td>0.021928</td>\n",
       "      <td>0.020227</td>\n",
       "    </tr>\n",
       "  </tbody>\n",
       "</table>\n",
       "<p>8 rows × 3055 columns</p>\n",
       "</div>"
      ],
      "text/plain": [
       "        Wavenumber  MEVEX_20110103  MEVEX_20110106  MEVEX_20110109  \\\n",
       "count  2784.000000     2784.000000     2784.000000     2784.000000   \n",
       "mean   2209.418096        0.002478        0.007629        0.003872   \n",
       "std    1033.439275        0.003319        0.012120        0.005527   \n",
       "min     420.412987       -0.004422       -0.018882       -0.004202   \n",
       "25%    1314.915541        0.000033        0.000153        0.000060   \n",
       "50%    2209.418096        0.001226        0.002561        0.001623   \n",
       "75%    3103.920651        0.003776        0.008820        0.005196   \n",
       "max    3998.423206        0.011784        0.066208        0.026547   \n",
       "\n",
       "       MEVEX_20110112  MEVEX_20110115  MEVEX_20110118  MEVEX_20110121  \\\n",
       "count     2784.000000     2784.000000     2784.000000     2784.000000   \n",
       "mean         0.000755        0.002846        0.001433        0.001013   \n",
       "std          0.003788        0.004476        0.002169        0.002260   \n",
       "min         -0.034893       -0.012253       -0.002799       -0.015570   \n",
       "25%         -0.000039        0.000013        0.000036       -0.000008   \n",
       "50%          0.000450        0.001121        0.000686        0.000540   \n",
       "75%          0.002017        0.004135        0.002288        0.001827   \n",
       "max          0.007968        0.015947        0.013937        0.008819   \n",
       "\n",
       "       MEVEX_20110124  MEVEX_20110127  ...  YOSEX_20131203  YOSEX_20131206  \\\n",
       "count     2784.000000     2784.000000  ...     2784.000000     2784.000000   \n",
       "mean         0.003287        0.001430  ...        0.001695        0.005704   \n",
       "std          0.005699        0.003522  ...        0.003481        0.007803   \n",
       "min         -0.018276       -0.023975  ...       -0.022894       -0.022639   \n",
       "25%          0.000106       -0.000092  ...        0.000032        0.000267   \n",
       "50%          0.001375        0.000499  ...        0.000922        0.002763   \n",
       "75%          0.005028        0.002163  ...        0.003092        0.008661   \n",
       "max          0.036242        0.012822  ...        0.021287        0.038668   \n",
       "\n",
       "       YOSEX_20131209  YOSEX_20131212  YOSEX_20131215  YOSEX_20131218  \\\n",
       "count     2784.000000     2784.000000     2784.000000     2784.000000   \n",
       "mean         0.001430        0.001287        0.000852        0.002539   \n",
       "std          0.003058        0.002604        0.002878        0.003606   \n",
       "min         -0.018697       -0.016382       -0.023044       -0.016786   \n",
       "25%          0.000030        0.000065       -0.000002        0.000112   \n",
       "50%          0.000663        0.000627        0.000506        0.001316   \n",
       "75%          0.002526        0.002221        0.001782        0.003938   \n",
       "max          0.022145        0.021931        0.022472        0.022211   \n",
       "\n",
       "       YOSEX_20131221  YOSEX_20131224  YOSEX_20131227  YOSEX_20131230  \n",
       "count     2784.000000     2784.000000     2784.000000     2784.000000  \n",
       "mean         0.002858        0.001604        0.001278        0.002211  \n",
       "std          0.004685        0.002809        0.002535        0.003416  \n",
       "min         -0.023560       -0.016820       -0.018239       -0.019490  \n",
       "25%          0.000045        0.000114        0.000088        0.000144  \n",
       "50%          0.001378        0.000825        0.000779        0.001392  \n",
       "75%          0.005227        0.002735        0.002305        0.003640  \n",
       "max          0.025666        0.020729        0.021928        0.020227  \n",
       "\n",
       "[8 rows x 3055 columns]"
      ]
     },
     "execution_count": 5,
     "metadata": {},
     "output_type": "execute_result"
    }
   ],
   "source": [
    "data_amb_spec.describe()"
   ]
  },
  {
   "cell_type": "markdown",
   "metadata": {},
   "source": [
    "## Data exploration"
   ]
  },
  {
   "cell_type": "code",
   "execution_count": 6,
   "metadata": {},
   "outputs": [
    {
     "name": "stdout",
     "output_type": "stream",
     "text": [
      "Number of rows :  2784\n",
      "Number of columns :  3055 \n",
      "\n",
      "Wavenumber : from [ 420.4129865599  to  3998.4232055216 ] \n",
      "\n",
      "Number of NaN values :  0\n"
     ]
    }
   ],
   "source": [
    "# Dimensions\n",
    "print(\"Number of rows : \", len(data_amb_spec))\n",
    "print(\"Number of columns : \", len(data_amb_spec.columns), \"\\n\")\n",
    "\n",
    "# Wavenumber\n",
    "print(\"Wavenumber : from [\", data_amb_spec[\"Wavenumber\"].min(), \" to \", \n",
    "      data_amb_spec[\"Wavenumber\"].max(), \"] \\n\")\n",
    "\n",
    "# NaN values\n",
    "nb_nan = data_amb_spec.isna().sum().sum()\n",
    "print(\"Number of NaN values : \", nb_nan)"
   ]
  },
  {
   "cell_type": "code",
   "execution_count": 7,
   "metadata": {
    "scrolled": true
   },
   "outputs": [
    {
     "data": {
      "image/png": "[encoded data removed]",
      "text/plain": [
       "<Figure size 432x288 with 1 Axes>"
      ]
     },
     "metadata": {
      "needs_background": "light"
     },
     "output_type": "display_data"
    }
   ],
   "source": [
    "# Print and example of spectra\n",
    "\n",
    "x = data_amb_spec[\"Wavenumber\"]\n",
    "y = data_amb_spec[\"BYIS1_20130504\"]\n",
    "\n",
    "fig = plt.figure()\n",
    "plt.plot(x, y, 'b')\n",
    "plt.xlabel('Wavenumber')\n",
    "plt.ylabel('Absorbance [ ]')\n",
    "plt.axis([max(x),min(x),min(y)-0.1*max(y),max(y)+0.1*max(y)]);"
   ]
  },
  {
   "cell_type": "code",
   "execution_count": 12,
   "metadata": {},
   "outputs": [],
   "source": [
    "data_amb_spec.to_csv(PROCESS_AMB_SPEC, sep=',')"
   ]
  },
  {
   "cell_type": "markdown",
   "metadata": {},
   "source": [
    "# II. Ambient samples : concentrations"
   ]
  },
  {
   "cell_type": "code",
   "execution_count": 29,
   "metadata": {},
   "outputs": [],
   "source": [
    "# Import data\n",
    "file = pd.read_csv(DATA_PATH_AMB_CONC)\n",
    "data_amb_conc = pd.DataFrame(file)\n",
    "data_amb_conc = data_amb_conc[['Unnamed: 0','SO4f:Value']]"
   ]
  },
  {
   "cell_type": "code",
   "execution_count": 30,
   "metadata": {
    "scrolled": false
   },
   "outputs": [
    {
     "data": {
      "text/html": [
       "<div>\n",
       "<style scoped>\n",
       "    .dataframe tbody tr th:only-of-type {\n",
       "        vertical-align: middle;\n",
       "    }\n",
       "\n",
       "    .dataframe tbody tr th {\n",
       "        vertical-align: top;\n",
       "    }\n",
       "\n",
       "    .dataframe thead th {\n",
       "        text-align: right;\n",
       "    }\n",
       "</style>\n",
       "<table border=\"1\" class=\"dataframe\">\n",
       "  <thead>\n",
       "    <tr style=\"text-align: right;\">\n",
       "      <th></th>\n",
       "      <th>Unnamed: 0</th>\n",
       "      <th>SO4f:Value</th>\n",
       "    </tr>\n",
       "  </thead>\n",
       "  <tbody>\n",
       "    <tr>\n",
       "      <th>0</th>\n",
       "      <td>BIRM1_20110103</td>\n",
       "      <td>19.347126</td>\n",
       "    </tr>\n",
       "    <tr>\n",
       "      <th>1</th>\n",
       "      <td>BIRM1_20110106</td>\n",
       "      <td>NaN</td>\n",
       "    </tr>\n",
       "    <tr>\n",
       "      <th>2</th>\n",
       "      <td>BIRM1_20110109</td>\n",
       "      <td>NaN</td>\n",
       "    </tr>\n",
       "    <tr>\n",
       "      <th>3</th>\n",
       "      <td>BIRM1_20110112</td>\n",
       "      <td>NaN</td>\n",
       "    </tr>\n",
       "    <tr>\n",
       "      <th>4</th>\n",
       "      <td>BIRM1_20110115</td>\n",
       "      <td>15.073951</td>\n",
       "    </tr>\n",
       "  </tbody>\n",
       "</table>\n",
       "</div>"
      ],
      "text/plain": [
       "       Unnamed: 0  SO4f:Value\n",
       "0  BIRM1_20110103   19.347126\n",
       "1  BIRM1_20110106         NaN\n",
       "2  BIRM1_20110109         NaN\n",
       "3  BIRM1_20110112         NaN\n",
       "4  BIRM1_20110115   15.073951"
      ]
     },
     "execution_count": 30,
     "metadata": {},
     "output_type": "execute_result"
    }
   ],
   "source": [
    "data_amb_conc.head()"
   ]
  },
  {
   "cell_type": "markdown",
   "metadata": {},
   "source": [
    "## Data exploration"
   ]
  },
  {
   "cell_type": "code",
   "execution_count": 31,
   "metadata": {},
   "outputs": [
    {
     "name": "stdout",
     "output_type": "stream",
     "text": [
      "Number of rows :  4531 \n",
      "\n",
      "Number of NaN values :  227 \n",
      "\n",
      "Minimum value :  ['BIRM1_20110103' 0.0]\n",
      "Maximum value :  ['YOSEX_20131230' 279.398436480527]\n"
     ]
    }
   ],
   "source": [
    "# Dimensions\n",
    "print(\"Number of rows : \", len(data_amb_conc), \"\\n\")\n",
    "\n",
    "# NaN values\n",
    "nb_nan = data_amb_conc['SO4f:Value'].isna().sum()\n",
    "print(\"Number of NaN values : \", nb_nan, \"\\n\")\n",
    "\n",
    "# Range of values\n",
    "print(\"Minimum value : \", data_amb_conc.min().values)\n",
    "print(\"Maximum value : \", data_amb_conc.max().values)"
   ]
  },
  {
   "cell_type": "code",
   "execution_count": 32,
   "metadata": {
    "scrolled": true
   },
   "outputs": [
    {
     "data": {
      "image/png": "[encoded data removed]",
      "text/plain": [
       "<Figure size 432x288 with 1 Axes>"
      ]
     },
     "metadata": {
      "needs_background": "light"
     },
     "output_type": "display_data"
    }
   ],
   "source": [
    "# Print the values to detect outliers\n",
    "\n",
    "x = data_amb_conc.index\n",
    "y = data_amb_conc[\"SO4f:Value\"]\n",
    "\n",
    "fig = plt.figure()\n",
    "plt.plot(x, y, 'b')\n",
    "plt.xlabel('Index')\n",
    "plt.ylabel('Concentration [mu_g/cm2]')\n",
    "plt.title('Checking for outliers');"
   ]
  },
  {
   "cell_type": "code",
   "execution_count": 34,
   "metadata": {},
   "outputs": [
    {
     "data": {
      "image/png": "[encoded data removed]",
      "text/plain": [
       "<Figure size 432x288 with 1 Axes>"
      ]
     },
     "metadata": {
      "needs_background": "light"
     },
     "output_type": "display_data"
    }
   ],
   "source": [
    "# Distribution function\n",
    "\n",
    "# Frequency\n",
    "stats_amb = data_amb_conc.groupby('SO4f:Value')['SO4f:Value'].agg('count') \\\n",
    "                        .pipe(pd.DataFrame) \\\n",
    "                        .rename(columns = {'SO4f:Value':'frequency'})\\\n",
    "                        .reset_index()\n",
    "\n",
    "# PDF\n",
    "stats_amb['pdf'] = stats_amb['frequency']/sum(stats_amb['frequency'])\n",
    "\n",
    "stats_amb = stats_amb.drop(stats_amb.index[0])\n",
    "\n",
    "plt.hist(stats_amb['SO4f:Value'], bins=50, histtype='step')\n",
    "plt.title('Density function of Ambient samples')\n",
    "plt.ylabel('Number of samples')\n",
    "plt.xlabel('Concentration')\n",
    "plt.show()"
   ]
  },
  {
   "cell_type": "markdown",
   "metadata": {},
   "source": [
    "## Data analysis"
   ]
  },
  {
   "cell_type": "markdown",
   "metadata": {},
   "source": [
    "Delete the samples with NaN concentration."
   ]
  },
  {
   "cell_type": "code",
   "execution_count": 35,
   "metadata": {},
   "outputs": [],
   "source": [
    "data_amb_conc = data_amb_conc.dropna().reset_index(drop=True)"
   ]
  },
  {
   "cell_type": "markdown",
   "metadata": {},
   "source": [
    "The data from the file is in [$\\mu$g/cm$^2$] of SO4. We multiply by molecular weight of (NH4)2 SO4 / molecular weight of SO4, so we get the concentration of (NH4)2 SO4 in [$\\mu$g/cm$^2$]."
   ]
  },
  {
   "cell_type": "code",
   "execution_count": 36,
   "metadata": {
    "scrolled": true
   },
   "outputs": [
    {
     "data": {
      "text/html": [
       "<div>\n",
       "<style scoped>\n",
       "    .dataframe tbody tr th:only-of-type {\n",
       "        vertical-align: middle;\n",
       "    }\n",
       "\n",
       "    .dataframe tbody tr th {\n",
       "        vertical-align: top;\n",
       "    }\n",
       "\n",
       "    .dataframe thead th {\n",
       "        text-align: right;\n",
       "    }\n",
       "</style>\n",
       "<table border=\"1\" class=\"dataframe\">\n",
       "  <thead>\n",
       "    <tr style=\"text-align: right;\">\n",
       "      <th></th>\n",
       "      <th>Sites</th>\n",
       "      <th>(NH4)SO4</th>\n",
       "    </tr>\n",
       "  </thead>\n",
       "  <tbody>\n",
       "    <tr>\n",
       "      <th>0</th>\n",
       "      <td>BIRM1_20110103</td>\n",
       "      <td>26.613880</td>\n",
       "    </tr>\n",
       "    <tr>\n",
       "      <th>1</th>\n",
       "      <td>BIRM1_20110115</td>\n",
       "      <td>20.735705</td>\n",
       "    </tr>\n",
       "    <tr>\n",
       "      <th>2</th>\n",
       "      <td>BIRM1_20110118</td>\n",
       "      <td>46.751548</td>\n",
       "    </tr>\n",
       "    <tr>\n",
       "      <th>3</th>\n",
       "      <td>BIRM1_20110121</td>\n",
       "      <td>21.738063</td>\n",
       "    </tr>\n",
       "    <tr>\n",
       "      <th>4</th>\n",
       "      <td>BIRM1_20110124</td>\n",
       "      <td>14.729169</td>\n",
       "    </tr>\n",
       "  </tbody>\n",
       "</table>\n",
       "</div>"
      ],
      "text/plain": [
       "            Sites   (NH4)SO4\n",
       "0  BIRM1_20110103  26.613880\n",
       "1  BIRM1_20110115  20.735705\n",
       "2  BIRM1_20110118  46.751548\n",
       "3  BIRM1_20110121  21.738063\n",
       "4  BIRM1_20110124  14.729169"
      ]
     },
     "execution_count": 36,
     "metadata": {},
     "output_type": "execute_result"
    }
   ],
   "source": [
    "# Molecular weights [g/mol] :\n",
    "MW_SO4 = 96.06\n",
    "MW_NH4SO4 = 132.14\n",
    "\n",
    "data_amb_conc[\"SO4f:Value\"] = data_amb_conc[\"SO4f:Value\"].multiply(MW_NH4SO4/MW_SO4)\n",
    "data_amb_conc.columns = ['Sites','(NH4)SO4']\n",
    "data_amb_conc.head()"
   ]
  },
  {
   "cell_type": "code",
   "execution_count": 37,
   "metadata": {},
   "outputs": [
    {
     "name": "stdout",
     "output_type": "stream",
     "text": [
      "Minimum value :  ['BIRM1_20110103' 0.0]\n",
      "Maximum value :  ['YOSEX_20131230' 384.3400936553907]\n"
     ]
    }
   ],
   "source": [
    "print(\"Minimum value : \", data_amb_conc.min().values)\n",
    "print(\"Maximum value : \", data_amb_conc.max().values)"
   ]
  },
  {
   "cell_type": "code",
   "execution_count": 38,
   "metadata": {},
   "outputs": [],
   "source": [
    "data_amb_conc.to_csv(PROCESS_AMB_CONC, sep=',')"
   ]
  },
  {
   "cell_type": "markdown",
   "metadata": {},
   "source": [
    "## Selection of samples"
   ]
  },
  {
   "cell_type": "markdown",
   "metadata": {},
   "source": [
    "The sites are not the same between the spectra samples and concentration samples, so we keep only the ones for which we know both the spectra and the concentration."
   ]
  },
  {
   "cell_type": "code",
   "execution_count": 22,
   "metadata": {},
   "outputs": [],
   "source": [
    "sites_spec = pd.DataFrame(data_amb_spec.columns, columns = ['Sites'])\n",
    "sites_spec = sites_spec.drop(sites_spec.index[[0]]).reset_index(drop=True)\n",
    "\n",
    "sites_conc = data_amb_conc[['Sites']].reset_index(drop=True)\n",
    "\n",
    "sites_both = pd.merge(sites_conc, sites_spec, how='inner').values.ravel()\n",
    "\n",
    "data_amb_spec = data_amb_spec[sites_both]\n",
    "data_amb_conc = data_amb_conc[['Sites', '(NH4)SO4']].loc[data_amb_conc['Sites'].isin(sites_both)]"
   ]
  },
  {
   "cell_type": "code",
   "execution_count": 23,
   "metadata": {},
   "outputs": [
    {
     "name": "stdout",
     "output_type": "stream",
     "text": [
      "Number of rows :  2230\n",
      "Number of rows :  2230\n"
     ]
    }
   ],
   "source": [
    "print(\"Number of rows : \", len(data_amb_conc))\n",
    "print(\"Number of rows : \", len(data_amb_spec.columns))"
   ]
  },
  {
   "cell_type": "markdown",
   "metadata": {},
   "source": [
    "## Saving the new data"
   ]
  },
  {
   "cell_type": "code",
   "execution_count": 24,
   "metadata": {},
   "outputs": [],
   "source": [
    "#del data_amb_spec['Wavenumber']\n",
    "del data_amb_conc['Sites']"
   ]
  },
  {
   "cell_type": "code",
   "execution_count": 25,
   "metadata": {},
   "outputs": [
    {
     "name": "stdout",
     "output_type": "stream",
     "text": [
      "(2784, 2230)\n",
      "(2230, 1)\n"
     ]
    }
   ],
   "source": [
    "mat_amb_spec = data_amb_spec.reset_index(drop=True).to_numpy()\n",
    "mat_amb_conc = data_amb_conc.reset_index(drop=True).to_numpy()\n",
    "\n",
    "print(mat_amb_spec.shape)\n",
    "print(mat_amb_conc.shape)\n",
    "\n",
    "np.savetxt(OUTPUT_AMB_SPEC, mat_amb_spec, delimiter=',')\n",
    "np.savetxt(OUTPUT_AMB_CONC, mat_amb_conc, delimiter=',')"
   ]
  },
  {
   "cell_type": "markdown",
   "metadata": {},
   "source": [
    "# III. Laboratory samples : spectra"
   ]
  },
  {
   "cell_type": "code",
   "execution_count": 40,
   "metadata": {},
   "outputs": [],
   "source": [
    "# Import data\n",
    "file = pd.read_csv(DATA_PATH_LAB_SPEC, index_col=\"Unnamed: 0\")\n",
    "data_lab_spec = pd.DataFrame(file)\n",
    "data_lab_spec = data_lab_spec.sort_index(axis=1, ascending=True)"
   ]
  },
  {
   "cell_type": "code",
   "execution_count": 41,
   "metadata": {},
   "outputs": [
    {
     "data": {
      "text/html": [
       "<div>\n",
       "<style scoped>\n",
       "    .dataframe tbody tr th:only-of-type {\n",
       "        vertical-align: middle;\n",
       "    }\n",
       "\n",
       "    .dataframe tbody tr th {\n",
       "        vertical-align: top;\n",
       "    }\n",
       "\n",
       "    .dataframe thead th {\n",
       "        text-align: right;\n",
       "    }\n",
       "</style>\n",
       "<table border=\"1\" class=\"dataframe\">\n",
       "  <thead>\n",
       "    <tr style=\"text-align: right;\">\n",
       "      <th></th>\n",
       "      <th>Wavenumber</th>\n",
       "      <th>X01012</th>\n",
       "      <th>X01020</th>\n",
       "      <th>X01021</th>\n",
       "      <th>X01022</th>\n",
       "      <th>X01027</th>\n",
       "      <th>X01033</th>\n",
       "      <th>X01034</th>\n",
       "      <th>X01050</th>\n",
       "      <th>X01092</th>\n",
       "      <th>...</th>\n",
       "      <th>X11054</th>\n",
       "      <th>X11055</th>\n",
       "      <th>X11056</th>\n",
       "      <th>X21046</th>\n",
       "      <th>X21047</th>\n",
       "      <th>X21048</th>\n",
       "      <th>X21049</th>\n",
       "      <th>X21050</th>\n",
       "      <th>X21051</th>\n",
       "      <th>X21052</th>\n",
       "    </tr>\n",
       "  </thead>\n",
       "  <tbody>\n",
       "    <tr>\n",
       "      <th>1</th>\n",
       "      <td>3998.423206</td>\n",
       "      <td>-0.002246</td>\n",
       "      <td>-0.001828</td>\n",
       "      <td>-0.001196</td>\n",
       "      <td>-0.001546</td>\n",
       "      <td>-0.001464</td>\n",
       "      <td>-0.001665</td>\n",
       "      <td>-0.001718</td>\n",
       "      <td>-0.002252</td>\n",
       "      <td>-0.001366</td>\n",
       "      <td>...</td>\n",
       "      <td>-0.001412</td>\n",
       "      <td>-0.001581</td>\n",
       "      <td>-0.002158</td>\n",
       "      <td>-0.000590</td>\n",
       "      <td>-0.000876</td>\n",
       "      <td>-0.000956</td>\n",
       "      <td>-0.002222</td>\n",
       "      <td>-0.001690</td>\n",
       "      <td>-0.000941</td>\n",
       "      <td>-0.001959</td>\n",
       "    </tr>\n",
       "    <tr>\n",
       "      <th>2</th>\n",
       "      <td>3997.137539</td>\n",
       "      <td>-0.002221</td>\n",
       "      <td>-0.001810</td>\n",
       "      <td>-0.001186</td>\n",
       "      <td>-0.001526</td>\n",
       "      <td>-0.001444</td>\n",
       "      <td>-0.001646</td>\n",
       "      <td>-0.001702</td>\n",
       "      <td>-0.002252</td>\n",
       "      <td>-0.001360</td>\n",
       "      <td>...</td>\n",
       "      <td>-0.001394</td>\n",
       "      <td>-0.001561</td>\n",
       "      <td>-0.002118</td>\n",
       "      <td>-0.000591</td>\n",
       "      <td>-0.000870</td>\n",
       "      <td>-0.000974</td>\n",
       "      <td>-0.002220</td>\n",
       "      <td>-0.001680</td>\n",
       "      <td>-0.000940</td>\n",
       "      <td>-0.001955</td>\n",
       "    </tr>\n",
       "    <tr>\n",
       "      <th>3</th>\n",
       "      <td>3995.851872</td>\n",
       "      <td>-0.002192</td>\n",
       "      <td>-0.001790</td>\n",
       "      <td>-0.001173</td>\n",
       "      <td>-0.001497</td>\n",
       "      <td>-0.001420</td>\n",
       "      <td>-0.001626</td>\n",
       "      <td>-0.001678</td>\n",
       "      <td>-0.002241</td>\n",
       "      <td>-0.001346</td>\n",
       "      <td>...</td>\n",
       "      <td>-0.001371</td>\n",
       "      <td>-0.001536</td>\n",
       "      <td>-0.002075</td>\n",
       "      <td>-0.000591</td>\n",
       "      <td>-0.000865</td>\n",
       "      <td>-0.000986</td>\n",
       "      <td>-0.002210</td>\n",
       "      <td>-0.001665</td>\n",
       "      <td>-0.000933</td>\n",
       "      <td>-0.001950</td>\n",
       "    </tr>\n",
       "    <tr>\n",
       "      <th>4</th>\n",
       "      <td>3994.566206</td>\n",
       "      <td>-0.002168</td>\n",
       "      <td>-0.001773</td>\n",
       "      <td>-0.001165</td>\n",
       "      <td>-0.001473</td>\n",
       "      <td>-0.001404</td>\n",
       "      <td>-0.001608</td>\n",
       "      <td>-0.001656</td>\n",
       "      <td>-0.002227</td>\n",
       "      <td>-0.001320</td>\n",
       "      <td>...</td>\n",
       "      <td>-0.001354</td>\n",
       "      <td>-0.001513</td>\n",
       "      <td>-0.002040</td>\n",
       "      <td>-0.000587</td>\n",
       "      <td>-0.000858</td>\n",
       "      <td>-0.000985</td>\n",
       "      <td>-0.002188</td>\n",
       "      <td>-0.001644</td>\n",
       "      <td>-0.000916</td>\n",
       "      <td>-0.001939</td>\n",
       "    </tr>\n",
       "    <tr>\n",
       "      <th>5</th>\n",
       "      <td>3993.280539</td>\n",
       "      <td>-0.002151</td>\n",
       "      <td>-0.001760</td>\n",
       "      <td>-0.001161</td>\n",
       "      <td>-0.001459</td>\n",
       "      <td>-0.001397</td>\n",
       "      <td>-0.001592</td>\n",
       "      <td>-0.001643</td>\n",
       "      <td>-0.002210</td>\n",
       "      <td>-0.001286</td>\n",
       "      <td>...</td>\n",
       "      <td>-0.001347</td>\n",
       "      <td>-0.001499</td>\n",
       "      <td>-0.002014</td>\n",
       "      <td>-0.000578</td>\n",
       "      <td>-0.000848</td>\n",
       "      <td>-0.000969</td>\n",
       "      <td>-0.002150</td>\n",
       "      <td>-0.001617</td>\n",
       "      <td>-0.000891</td>\n",
       "      <td>-0.001911</td>\n",
       "    </tr>\n",
       "  </tbody>\n",
       "</table>\n",
       "<p>5 rows × 239 columns</p>\n",
       "</div>"
      ],
      "text/plain": [
       "    Wavenumber    X01012    X01020    X01021    X01022    X01027    X01033  \\\n",
       "1  3998.423206 -0.002246 -0.001828 -0.001196 -0.001546 -0.001464 -0.001665   \n",
       "2  3997.137539 -0.002221 -0.001810 -0.001186 -0.001526 -0.001444 -0.001646   \n",
       "3  3995.851872 -0.002192 -0.001790 -0.001173 -0.001497 -0.001420 -0.001626   \n",
       "4  3994.566206 -0.002168 -0.001773 -0.001165 -0.001473 -0.001404 -0.001608   \n",
       "5  3993.280539 -0.002151 -0.001760 -0.001161 -0.001459 -0.001397 -0.001592   \n",
       "\n",
       "     X01034    X01050    X01092  ...    X11054    X11055    X11056    X21046  \\\n",
       "1 -0.001718 -0.002252 -0.001366  ... -0.001412 -0.001581 -0.002158 -0.000590   \n",
       "2 -0.001702 -0.002252 -0.001360  ... -0.001394 -0.001561 -0.002118 -0.000591   \n",
       "3 -0.001678 -0.002241 -0.001346  ... -0.001371 -0.001536 -0.002075 -0.000591   \n",
       "4 -0.001656 -0.002227 -0.001320  ... -0.001354 -0.001513 -0.002040 -0.000587   \n",
       "5 -0.001643 -0.002210 -0.001286  ... -0.001347 -0.001499 -0.002014 -0.000578   \n",
       "\n",
       "     X21047    X21048    X21049    X21050    X21051    X21052  \n",
       "1 -0.000876 -0.000956 -0.002222 -0.001690 -0.000941 -0.001959  \n",
       "2 -0.000870 -0.000974 -0.002220 -0.001680 -0.000940 -0.001955  \n",
       "3 -0.000865 -0.000986 -0.002210 -0.001665 -0.000933 -0.001950  \n",
       "4 -0.000858 -0.000985 -0.002188 -0.001644 -0.000916 -0.001939  \n",
       "5 -0.000848 -0.000969 -0.002150 -0.001617 -0.000891 -0.001911  \n",
       "\n",
       "[5 rows x 239 columns]"
      ]
     },
     "execution_count": 41,
     "metadata": {},
     "output_type": "execute_result"
    }
   ],
   "source": [
    "data_lab_spec.head()"
   ]
  },
  {
   "cell_type": "code",
   "execution_count": 28,
   "metadata": {},
   "outputs": [
    {
     "data": {
      "text/html": [
       "<div>\n",
       "<style scoped>\n",
       "    .dataframe tbody tr th:only-of-type {\n",
       "        vertical-align: middle;\n",
       "    }\n",
       "\n",
       "    .dataframe tbody tr th {\n",
       "        vertical-align: top;\n",
       "    }\n",
       "\n",
       "    .dataframe thead th {\n",
       "        text-align: right;\n",
       "    }\n",
       "</style>\n",
       "<table border=\"1\" class=\"dataframe\">\n",
       "  <thead>\n",
       "    <tr style=\"text-align: right;\">\n",
       "      <th></th>\n",
       "      <th>Wavenumber</th>\n",
       "      <th>X01012</th>\n",
       "      <th>X01020</th>\n",
       "      <th>X01021</th>\n",
       "      <th>X01022</th>\n",
       "      <th>X01027</th>\n",
       "      <th>X01033</th>\n",
       "      <th>X01034</th>\n",
       "      <th>X01050</th>\n",
       "      <th>X01092</th>\n",
       "      <th>...</th>\n",
       "      <th>X11054</th>\n",
       "      <th>X11055</th>\n",
       "      <th>X11056</th>\n",
       "      <th>X21046</th>\n",
       "      <th>X21047</th>\n",
       "      <th>X21048</th>\n",
       "      <th>X21049</th>\n",
       "      <th>X21050</th>\n",
       "      <th>X21051</th>\n",
       "      <th>X21052</th>\n",
       "    </tr>\n",
       "  </thead>\n",
       "  <tbody>\n",
       "    <tr>\n",
       "      <th>count</th>\n",
       "      <td>2784.000000</td>\n",
       "      <td>2784.000000</td>\n",
       "      <td>2784.000000</td>\n",
       "      <td>2784.000000</td>\n",
       "      <td>2784.000000</td>\n",
       "      <td>2784.000000</td>\n",
       "      <td>2784.000000</td>\n",
       "      <td>2784.000000</td>\n",
       "      <td>2784.000000</td>\n",
       "      <td>2784.000000</td>\n",
       "      <td>...</td>\n",
       "      <td>2784.000000</td>\n",
       "      <td>2784.000000</td>\n",
       "      <td>2784.000000</td>\n",
       "      <td>2784.000000</td>\n",
       "      <td>2784.000000</td>\n",
       "      <td>2784.000000</td>\n",
       "      <td>2784.000000</td>\n",
       "      <td>2784.000000</td>\n",
       "      <td>2784.000000</td>\n",
       "      <td>2784.000000</td>\n",
       "    </tr>\n",
       "    <tr>\n",
       "      <th>mean</th>\n",
       "      <td>2209.418096</td>\n",
       "      <td>0.002333</td>\n",
       "      <td>0.007426</td>\n",
       "      <td>0.007100</td>\n",
       "      <td>0.008785</td>\n",
       "      <td>0.012305</td>\n",
       "      <td>0.000376</td>\n",
       "      <td>0.002213</td>\n",
       "      <td>0.015982</td>\n",
       "      <td>0.000642</td>\n",
       "      <td>...</td>\n",
       "      <td>0.001262</td>\n",
       "      <td>0.000472</td>\n",
       "      <td>0.002941</td>\n",
       "      <td>0.005838</td>\n",
       "      <td>0.007951</td>\n",
       "      <td>0.017528</td>\n",
       "      <td>0.010778</td>\n",
       "      <td>0.016604</td>\n",
       "      <td>0.010538</td>\n",
       "      <td>0.015616</td>\n",
       "    </tr>\n",
       "    <tr>\n",
       "      <th>std</th>\n",
       "      <td>1033.439275</td>\n",
       "      <td>0.008639</td>\n",
       "      <td>0.017987</td>\n",
       "      <td>0.017305</td>\n",
       "      <td>0.021185</td>\n",
       "      <td>0.026696</td>\n",
       "      <td>0.004594</td>\n",
       "      <td>0.013277</td>\n",
       "      <td>0.067861</td>\n",
       "      <td>0.001708</td>\n",
       "      <td>...</td>\n",
       "      <td>0.007357</td>\n",
       "      <td>0.002606</td>\n",
       "      <td>0.005551</td>\n",
       "      <td>0.025262</td>\n",
       "      <td>0.035446</td>\n",
       "      <td>0.066451</td>\n",
       "      <td>0.048133</td>\n",
       "      <td>0.058680</td>\n",
       "      <td>0.043206</td>\n",
       "      <td>0.053346</td>\n",
       "    </tr>\n",
       "    <tr>\n",
       "      <th>min</th>\n",
       "      <td>420.412987</td>\n",
       "      <td>-0.036149</td>\n",
       "      <td>-0.024324</td>\n",
       "      <td>-0.015479</td>\n",
       "      <td>-0.012380</td>\n",
       "      <td>-0.007832</td>\n",
       "      <td>-0.021758</td>\n",
       "      <td>-0.020966</td>\n",
       "      <td>-0.007997</td>\n",
       "      <td>-0.002631</td>\n",
       "      <td>...</td>\n",
       "      <td>-0.038937</td>\n",
       "      <td>-0.010974</td>\n",
       "      <td>-0.008914</td>\n",
       "      <td>-0.045580</td>\n",
       "      <td>-0.044094</td>\n",
       "      <td>-0.046881</td>\n",
       "      <td>-0.063031</td>\n",
       "      <td>-0.002959</td>\n",
       "      <td>-0.036047</td>\n",
       "      <td>-0.017101</td>\n",
       "    </tr>\n",
       "    <tr>\n",
       "      <th>25%</th>\n",
       "      <td>1314.915541</td>\n",
       "      <td>-0.002180</td>\n",
       "      <td>-0.001275</td>\n",
       "      <td>-0.001557</td>\n",
       "      <td>-0.001710</td>\n",
       "      <td>-0.000824</td>\n",
       "      <td>-0.000963</td>\n",
       "      <td>-0.000944</td>\n",
       "      <td>-0.000976</td>\n",
       "      <td>-0.000339</td>\n",
       "      <td>...</td>\n",
       "      <td>-0.000997</td>\n",
       "      <td>-0.000829</td>\n",
       "      <td>-0.000329</td>\n",
       "      <td>-0.000342</td>\n",
       "      <td>-0.000441</td>\n",
       "      <td>-0.000099</td>\n",
       "      <td>-0.001021</td>\n",
       "      <td>-0.000223</td>\n",
       "      <td>-0.000109</td>\n",
       "      <td>-0.000052</td>\n",
       "    </tr>\n",
       "    <tr>\n",
       "      <th>50%</th>\n",
       "      <td>2209.418096</td>\n",
       "      <td>-0.000212</td>\n",
       "      <td>0.000277</td>\n",
       "      <td>0.000054</td>\n",
       "      <td>0.000100</td>\n",
       "      <td>0.000774</td>\n",
       "      <td>-0.000269</td>\n",
       "      <td>0.000202</td>\n",
       "      <td>0.001390</td>\n",
       "      <td>0.000000</td>\n",
       "      <td>...</td>\n",
       "      <td>0.000258</td>\n",
       "      <td>0.000163</td>\n",
       "      <td>0.001036</td>\n",
       "      <td>0.000377</td>\n",
       "      <td>0.000318</td>\n",
       "      <td>0.001520</td>\n",
       "      <td>0.000413</td>\n",
       "      <td>0.001790</td>\n",
       "      <td>0.000908</td>\n",
       "      <td>0.001943</td>\n",
       "    </tr>\n",
       "    <tr>\n",
       "      <th>75%</th>\n",
       "      <td>3103.920651</td>\n",
       "      <td>0.002895</td>\n",
       "      <td>0.006281</td>\n",
       "      <td>0.005553</td>\n",
       "      <td>0.005995</td>\n",
       "      <td>0.008578</td>\n",
       "      <td>0.000746</td>\n",
       "      <td>0.001493</td>\n",
       "      <td>0.010326</td>\n",
       "      <td>0.001294</td>\n",
       "      <td>...</td>\n",
       "      <td>0.003808</td>\n",
       "      <td>0.001787</td>\n",
       "      <td>0.005187</td>\n",
       "      <td>0.005327</td>\n",
       "      <td>0.004962</td>\n",
       "      <td>0.012213</td>\n",
       "      <td>0.007733</td>\n",
       "      <td>0.011734</td>\n",
       "      <td>0.006612</td>\n",
       "      <td>0.012446</td>\n",
       "    </tr>\n",
       "    <tr>\n",
       "      <th>max</th>\n",
       "      <td>3998.423206</td>\n",
       "      <td>0.054426</td>\n",
       "      <td>0.124415</td>\n",
       "      <td>0.111903</td>\n",
       "      <td>0.145221</td>\n",
       "      <td>0.186992</td>\n",
       "      <td>0.061113</td>\n",
       "      <td>0.197199</td>\n",
       "      <td>1.001695</td>\n",
       "      <td>0.010527</td>\n",
       "      <td>...</td>\n",
       "      <td>0.052140</td>\n",
       "      <td>0.015792</td>\n",
       "      <td>0.049078</td>\n",
       "      <td>0.334987</td>\n",
       "      <td>0.484916</td>\n",
       "      <td>0.936997</td>\n",
       "      <td>0.662851</td>\n",
       "      <td>0.834002</td>\n",
       "      <td>0.612123</td>\n",
       "      <td>0.740384</td>\n",
       "    </tr>\n",
       "  </tbody>\n",
       "</table>\n",
       "<p>8 rows × 239 columns</p>\n",
       "</div>"
      ],
      "text/plain": [
       "        Wavenumber       X01012       X01020       X01021       X01022  \\\n",
       "count  2784.000000  2784.000000  2784.000000  2784.000000  2784.000000   \n",
       "mean   2209.418096     0.002333     0.007426     0.007100     0.008785   \n",
       "std    1033.439275     0.008639     0.017987     0.017305     0.021185   \n",
       "min     420.412987    -0.036149    -0.024324    -0.015479    -0.012380   \n",
       "25%    1314.915541    -0.002180    -0.001275    -0.001557    -0.001710   \n",
       "50%    2209.418096    -0.000212     0.000277     0.000054     0.000100   \n",
       "75%    3103.920651     0.002895     0.006281     0.005553     0.005995   \n",
       "max    3998.423206     0.054426     0.124415     0.111903     0.145221   \n",
       "\n",
       "            X01027       X01033       X01034       X01050       X01092  ...  \\\n",
       "count  2784.000000  2784.000000  2784.000000  2784.000000  2784.000000  ...   \n",
       "mean      0.012305     0.000376     0.002213     0.015982     0.000642  ...   \n",
       "std       0.026696     0.004594     0.013277     0.067861     0.001708  ...   \n",
       "min      -0.007832    -0.021758    -0.020966    -0.007997    -0.002631  ...   \n",
       "25%      -0.000824    -0.000963    -0.000944    -0.000976    -0.000339  ...   \n",
       "50%       0.000774    -0.000269     0.000202     0.001390     0.000000  ...   \n",
       "75%       0.008578     0.000746     0.001493     0.010326     0.001294  ...   \n",
       "max       0.186992     0.061113     0.197199     1.001695     0.010527  ...   \n",
       "\n",
       "            X11054       X11055       X11056       X21046       X21047  \\\n",
       "count  2784.000000  2784.000000  2784.000000  2784.000000  2784.000000   \n",
       "mean      0.001262     0.000472     0.002941     0.005838     0.007951   \n",
       "std       0.007357     0.002606     0.005551     0.025262     0.035446   \n",
       "min      -0.038937    -0.010974    -0.008914    -0.045580    -0.044094   \n",
       "25%      -0.000997    -0.000829    -0.000329    -0.000342    -0.000441   \n",
       "50%       0.000258     0.000163     0.001036     0.000377     0.000318   \n",
       "75%       0.003808     0.001787     0.005187     0.005327     0.004962   \n",
       "max       0.052140     0.015792     0.049078     0.334987     0.484916   \n",
       "\n",
       "            X21048       X21049       X21050       X21051       X21052  \n",
       "count  2784.000000  2784.000000  2784.000000  2784.000000  2784.000000  \n",
       "mean      0.017528     0.010778     0.016604     0.010538     0.015616  \n",
       "std       0.066451     0.048133     0.058680     0.043206     0.053346  \n",
       "min      -0.046881    -0.063031    -0.002959    -0.036047    -0.017101  \n",
       "25%      -0.000099    -0.001021    -0.000223    -0.000109    -0.000052  \n",
       "50%       0.001520     0.000413     0.001790     0.000908     0.001943  \n",
       "75%       0.012213     0.007733     0.011734     0.006612     0.012446  \n",
       "max       0.936997     0.662851     0.834002     0.612123     0.740384  \n",
       "\n",
       "[8 rows x 239 columns]"
      ]
     },
     "execution_count": 28,
     "metadata": {},
     "output_type": "execute_result"
    }
   ],
   "source": [
    "data_lab_spec.describe()"
   ]
  },
  {
   "cell_type": "markdown",
   "metadata": {},
   "source": [
    "## Data exploration"
   ]
  },
  {
   "cell_type": "code",
   "execution_count": 29,
   "metadata": {},
   "outputs": [
    {
     "name": "stdout",
     "output_type": "stream",
     "text": [
      "Number of rows :  2784\n",
      "Number of columns :  239 \n",
      "\n",
      "Wavenumber : from [ 420.41298656059996  to  3998.4232055216 ] \n",
      "\n",
      "Number of NaN values :  0 \n",
      "\n",
      "Number of zero values :  912\n"
     ]
    }
   ],
   "source": [
    "# Dimensions\n",
    "print(\"Number of rows : \", len(data_lab_spec))\n",
    "print(\"Number of columns : \", len(data_lab_spec.columns), \"\\n\")\n",
    "\n",
    "# Wavenumber\n",
    "print(\"Wavenumber : from [\", data_lab_spec[\"Wavenumber\"].min(), \" to \", \n",
    "      data_lab_spec[\"Wavenumber\"].max(), \"] \\n\")\n",
    "\n",
    "# NaN values\n",
    "nb_nan = data_lab_spec.isna().sum().sum()\n",
    "print(\"Number of NaN values : \", nb_nan, \"\\n\")\n",
    "\n",
    "# Zero values\n",
    "nb_zero = data_lab_spec.eq(0).sum().sum()\n",
    "print(\"Number of zero values : \", nb_zero)"
   ]
  },
  {
   "cell_type": "code",
   "execution_count": 30,
   "metadata": {},
   "outputs": [
    {
     "data": {
      "image/png": "[encoded data removed]",
      "text/plain": [
       "<Figure size 432x288 with 1 Axes>"
      ]
     },
     "metadata": {
      "needs_background": "light"
     },
     "output_type": "display_data"
    }
   ],
   "source": [
    "# Print and example of spectra\n",
    "\n",
    "x = data_lab_spec[\"Wavenumber\"]\n",
    "y = data_lab_spec[\"X01298\"]\n",
    "\n",
    "fig = plt.figure()\n",
    "plt.plot(x, y, 'b')\n",
    "plt.xlabel('Wavenumber')\n",
    "plt.ylabel('Absorbance [-]')\n",
    "plt.axis([max(x),min(x),min(y)-0.1*max(y),max(y)+0.1*max(y)]);"
   ]
  },
  {
   "cell_type": "code",
   "execution_count": 31,
   "metadata": {},
   "outputs": [
    {
     "data": {
      "text/plain": [
       "\"\\nx = data_lab_spec['Wavenumber'].values\\ndel data_lab_spec['Wavenumber']\\nY = data_lab_spec.values\\n\""
      ]
     },
     "execution_count": 31,
     "metadata": {},
     "output_type": "execute_result"
    }
   ],
   "source": [
    "\"\"\"\n",
    "x = data_lab_spec['Wavenumber'].values\n",
    "del data_lab_spec['Wavenumber']\n",
    "Y = data_lab_spec.values\n",
    "\"\"\""
   ]
  },
  {
   "cell_type": "code",
   "execution_count": 32,
   "metadata": {},
   "outputs": [
    {
     "data": {
      "text/plain": [
       "\"\\nfig = plt.figure(figsize=(10,14))\\nwith plt.style.context(('ggplot')):\\n    ax1 = plt.subplot(211)\\n    plt.plot(x, Y)\\n    plt.ylabel('Absorbance spectra')\\n    plt.xlabel('Wavenumber')\\n    plt.show()\\n\""
      ]
     },
     "execution_count": 32,
     "metadata": {},
     "output_type": "execute_result"
    }
   ],
   "source": [
    "\"\"\"\n",
    "fig = plt.figure(figsize=(10,14))\n",
    "with plt.style.context(('ggplot')):\n",
    "    ax1 = plt.subplot(211)\n",
    "    plt.plot(x, Y)\n",
    "    plt.ylabel('Absorbance spectra')\n",
    "    plt.xlabel('Wavenumber')\n",
    "    plt.show()\n",
    "\"\"\""
   ]
  },
  {
   "cell_type": "code",
   "execution_count": 33,
   "metadata": {},
   "outputs": [],
   "source": [
    "data_lab_spec.to_csv(PROCESS_LAB_SPEC, sep=',')"
   ]
  },
  {
   "cell_type": "markdown",
   "metadata": {},
   "source": [
    "# IV. Laboratory samples : concentrations"
   ]
  },
  {
   "cell_type": "code",
   "execution_count": 42,
   "metadata": {
    "scrolled": true
   },
   "outputs": [],
   "source": [
    "# Import data\n",
    "file = pd.read_csv(DATA_PATH_LAB_CONC)\n",
    "data_lab_conc = pd.DataFrame(file)\n",
    "data_lab_conc['sample'] = data_lab_conc['sample'].astype(str)"
   ]
  },
  {
   "cell_type": "code",
   "execution_count": 35,
   "metadata": {},
   "outputs": [
    {
     "data": {
      "text/html": [
       "<div>\n",
       "<style scoped>\n",
       "    .dataframe tbody tr th:only-of-type {\n",
       "        vertical-align: middle;\n",
       "    }\n",
       "\n",
       "    .dataframe tbody tr th {\n",
       "        vertical-align: top;\n",
       "    }\n",
       "\n",
       "    .dataframe thead th {\n",
       "        text-align: right;\n",
       "    }\n",
       "</style>\n",
       "<table border=\"1\" class=\"dataframe\">\n",
       "  <thead>\n",
       "    <tr style=\"text-align: right;\">\n",
       "      <th></th>\n",
       "      <th>sample</th>\n",
       "      <th>TRset</th>\n",
       "      <th>AmmNH_umole_cm2</th>\n",
       "    </tr>\n",
       "  </thead>\n",
       "  <tbody>\n",
       "    <tr>\n",
       "      <th>0</th>\n",
       "      <td>1012</td>\n",
       "      <td>test</td>\n",
       "      <td>0.561703</td>\n",
       "    </tr>\n",
       "    <tr>\n",
       "      <th>1</th>\n",
       "      <td>1020</td>\n",
       "      <td>calibration</td>\n",
       "      <td>1.113116</td>\n",
       "    </tr>\n",
       "    <tr>\n",
       "      <th>2</th>\n",
       "      <td>1021</td>\n",
       "      <td>calibration</td>\n",
       "      <td>1.203874</td>\n",
       "    </tr>\n",
       "    <tr>\n",
       "      <th>3</th>\n",
       "      <td>1022</td>\n",
       "      <td>test</td>\n",
       "      <td>1.371814</td>\n",
       "    </tr>\n",
       "    <tr>\n",
       "      <th>4</th>\n",
       "      <td>1027</td>\n",
       "      <td>calibration</td>\n",
       "      <td>1.687683</td>\n",
       "    </tr>\n",
       "  </tbody>\n",
       "</table>\n",
       "</div>"
      ],
      "text/plain": [
       "  sample        TRset  AmmNH_umole_cm2\n",
       "0   1012         test         0.561703\n",
       "1   1020  calibration         1.113116\n",
       "2   1021  calibration         1.203874\n",
       "3   1022         test         1.371814\n",
       "4   1027  calibration         1.687683"
      ]
     },
     "execution_count": 35,
     "metadata": {},
     "output_type": "execute_result"
    }
   ],
   "source": [
    "data_lab_conc = data_lab_conc[['sample','TRset','AmmNH_umole_cm2']]\n",
    "data_lab_conc.head()"
   ]
  },
  {
   "cell_type": "code",
   "execution_count": 36,
   "metadata": {},
   "outputs": [
    {
     "name": "stdout",
     "output_type": "stream",
     "text": [
      "Minimum value :  ['1012' 'calibration' 0.0]\n",
      "Maximum value :  ['21052' 'test' 7.71977551925496]\n"
     ]
    }
   ],
   "source": [
    "print(\"Minimum value : \", data_lab_conc.min().values)\n",
    "print(\"Maximum value : \", data_lab_conc.max().values)"
   ]
  },
  {
   "cell_type": "markdown",
   "metadata": {},
   "source": [
    "## Data analysis"
   ]
  },
  {
   "cell_type": "markdown",
   "metadata": {},
   "source": [
    "The data from the file is in [$\\mu$mol] of NH. By multiplying by (n_(NH4)2SO4/n_NH) × MW_(NH4)2SO4 where n(NH4)2SO4/nNH = 1/8 comes from the number of moles of NH bond per mole of (NH4)2SO4, we get a mass in [$\\mu$g] of (NH4)2SO4."
   ]
  },
  {
   "cell_type": "code",
   "execution_count": 37,
   "metadata": {},
   "outputs": [
    {
     "data": {
      "text/html": [
       "<div>\n",
       "<style scoped>\n",
       "    .dataframe tbody tr th:only-of-type {\n",
       "        vertical-align: middle;\n",
       "    }\n",
       "\n",
       "    .dataframe tbody tr th {\n",
       "        vertical-align: top;\n",
       "    }\n",
       "\n",
       "    .dataframe thead th {\n",
       "        text-align: right;\n",
       "    }\n",
       "</style>\n",
       "<table border=\"1\" class=\"dataframe\">\n",
       "  <thead>\n",
       "    <tr style=\"text-align: right;\">\n",
       "      <th></th>\n",
       "      <th>Sites</th>\n",
       "      <th>TRset</th>\n",
       "      <th>(NH4)SO4</th>\n",
       "    </tr>\n",
       "  </thead>\n",
       "  <tbody>\n",
       "    <tr>\n",
       "      <th>0</th>\n",
       "      <td>X01012</td>\n",
       "      <td>test</td>\n",
       "      <td>9.277934</td>\n",
       "    </tr>\n",
       "    <tr>\n",
       "      <th>1</th>\n",
       "      <td>X01020</td>\n",
       "      <td>calibration</td>\n",
       "      <td>18.385891</td>\n",
       "    </tr>\n",
       "    <tr>\n",
       "      <th>2</th>\n",
       "      <td>X01021</td>\n",
       "      <td>calibration</td>\n",
       "      <td>19.884997</td>\n",
       "    </tr>\n",
       "    <tr>\n",
       "      <th>3</th>\n",
       "      <td>X01022</td>\n",
       "      <td>test</td>\n",
       "      <td>22.658934</td>\n",
       "    </tr>\n",
       "    <tr>\n",
       "      <th>4</th>\n",
       "      <td>X01027</td>\n",
       "      <td>calibration</td>\n",
       "      <td>27.876296</td>\n",
       "    </tr>\n",
       "  </tbody>\n",
       "</table>\n",
       "</div>"
      ],
      "text/plain": [
       "    Sites        TRset   (NH4)SO4\n",
       "0  X01012         test   9.277934\n",
       "1  X01020  calibration  18.385891\n",
       "2  X01021  calibration  19.884997\n",
       "3  X01022         test  22.658934\n",
       "4  X01027  calibration  27.876296"
      ]
     },
     "execution_count": 37,
     "metadata": {},
     "output_type": "execute_result"
    }
   ],
   "source": [
    "# Molecular weights [g/mol] :\n",
    "MW_NH4SO4 = 132.14\n",
    "# Area of the filter [cm2] :\n",
    "# A = 3.53\n",
    "\n",
    "data_lab_conc[\"AmmNH_umole_cm2\"] = data_lab_conc[\"AmmNH_umole_cm2\"].multiply(MW_NH4SO4/8)\n",
    "data_lab_conc[\"pref\"] = 'X0'\n",
    "data_lab_conc[\"Sites\"] = data_lab_conc[\"pref\"] + data_lab_conc[\"sample\"]\n",
    "data_lab_conc = data_lab_conc[['Sites','TRset','AmmNH_umole_cm2']]\n",
    "data_lab_conc.columns = ['Sites','TRset','(NH4)SO4']\n",
    "data_lab_conc.head()"
   ]
  },
  {
   "cell_type": "code",
   "execution_count": 38,
   "metadata": {},
   "outputs": [
    {
     "name": "stdout",
     "output_type": "stream",
     "text": [
      "Number of rows :  241 \n",
      "\n",
      "Number of NaN values :  0 \n",
      "\n",
      "Minimum value :  ['X01012' 'calibration' 0.0]\n",
      "Maximum value :  ['X021052' 'test' 127.51139213929379]\n"
     ]
    }
   ],
   "source": [
    "# Dimensions\n",
    "print(\"Number of rows : \", len(data_lab_conc), \"\\n\")\n",
    "\n",
    "# NaN values\n",
    "nb_nan = data_lab_conc['(NH4)SO4'].isna().sum()\n",
    "print(\"Number of NaN values : \", nb_nan, \"\\n\")\n",
    "\n",
    "# Range of values\n",
    "print(\"Minimum value : \", data_lab_conc.min().values)\n",
    "print(\"Maximum value : \", data_lab_conc.max().values)"
   ]
  },
  {
   "cell_type": "code",
   "execution_count": 39,
   "metadata": {},
   "outputs": [
    {
     "name": "stdout",
     "output_type": "stream",
     "text": [
      "      Sites TRset  (NH4)SO4\n",
      "103  X01298  test  2.462312\n"
     ]
    }
   ],
   "source": [
    "#print(data_lab_conc[(data_lab_conc['(NH4)SO4'] >= 100) & (data_lab_conc['(NH4)SO4'] <= 500)])\n",
    "print(data_lab_conc[data_lab_conc['Sites'] == \"X01298\"])"
   ]
  },
  {
   "cell_type": "code",
   "execution_count": 40,
   "metadata": {
    "scrolled": true
   },
   "outputs": [
    {
     "data": {
      "text/plain": [
       "Text(0.5, 1.0, 'Checking for outliers')"
      ]
     },
     "execution_count": 40,
     "metadata": {},
     "output_type": "execute_result"
    },
    {
     "data": {
      "image/png": "[encoded data removed]",
      "text/plain": [
       "<Figure size 432x288 with 1 Axes>"
      ]
     },
     "metadata": {
      "needs_background": "light"
     },
     "output_type": "display_data"
    }
   ],
   "source": [
    "# Print the values to detect outliers\n",
    "\n",
    "x = data_lab_conc.index\n",
    "y = data_lab_conc['(NH4)SO4']\n",
    "\n",
    "fig = plt.figure()\n",
    "plt.plot(x, y, 'b')\n",
    "plt.xlabel('Index')\n",
    "plt.ylabel('Concentration [mu_g/cm2]')\n",
    "plt.title('Checking for outliers')"
   ]
  },
  {
   "cell_type": "code",
   "execution_count": 41,
   "metadata": {},
   "outputs": [
    {
     "data": {
      "image/png": "[encoded data removed]",
      "text/plain": [
       "<Figure size 432x288 with 1 Axes>"
      ]
     },
     "metadata": {
      "needs_background": "light"
     },
     "output_type": "display_data"
    }
   ],
   "source": [
    "# Cumulative distribution function\n",
    "\n",
    "# Frequency\n",
    "stats_lab = y_lab.groupby('(NH4)SO4')['(NH4)SO4'].agg('count') \\\n",
    "                        .pipe(pd.DataFrame) \\\n",
    "                        .rename(columns = {'(NH4)SO4':'frequency'})\\\n",
    "                        .reset_index()\n",
    "\n",
    "# PDF\n",
    "stats_lab['pdf'] = stats_lab['frequency']/sum(stats_lab['frequency'])\n",
    "\n",
    "stats_lab = stats_lab.drop(stats_lab.index[0])\n",
    "# About 80% of the data are zero values."
   ]
  },
  {
   "cell_type": "markdown",
   "metadata": {},
   "source": [
    "Remark : There are a lot of zero values. But we keep them."
   ]
  },
  {
   "cell_type": "code",
   "execution_count": 42,
   "metadata": {},
   "outputs": [],
   "source": [
    "data_lab_conc.to_csv(PROCESS_LAB_CONC, sep=',')"
   ]
  },
  {
   "cell_type": "markdown",
   "metadata": {},
   "source": [
    "## Selection of samples"
   ]
  },
  {
   "cell_type": "code",
   "execution_count": 43,
   "metadata": {},
   "outputs": [],
   "source": [
    "sites_spec = pd.DataFrame(data_lab_spec.columns, columns = ['Sites'])\n",
    "sites_spec = sites_spec.drop(sites_spec.index[[0]]).reset_index(drop=True)\n",
    "\n",
    "sites_conc_train = data_lab_conc[['Sites']].loc[data_lab_conc['TRset'] == 'calibration'].reset_index(drop=True)\n",
    "sites_conc_test = data_lab_conc[['Sites']].loc[data_lab_conc['TRset'] == 'test'].reset_index(drop=True)\n",
    "\n",
    "sites_both_train = pd.merge(sites_conc_train, sites_spec, how='inner').values.ravel()\n",
    "sites_both_test = pd.merge(sites_conc_test, sites_spec, how='inner').values.ravel()\n",
    "\n",
    "data_lab_spec_train = data_lab_spec[sites_both_train]\n",
    "data_lab_spec_test = data_lab_spec[sites_both_test]\n",
    "\n",
    "data_lab_conc_train = data_lab_conc[['Sites', '(NH4)SO4']].loc[data_lab_conc['Sites'].isin(sites_both_train)]\n",
    "data_lab_conc_test = data_lab_conc[['Sites', '(NH4)SO4']].loc[data_lab_conc['Sites'].isin(sites_both_test)]"
   ]
  },
  {
   "cell_type": "code",
   "execution_count": 44,
   "metadata": {},
   "outputs": [
    {
     "name": "stdout",
     "output_type": "stream",
     "text": [
      "Number of rows :  144\n",
      "Number of rows :  144\n"
     ]
    }
   ],
   "source": [
    "print(\"Number of rows : \", len(data_lab_conc_train))\n",
    "print(\"Number of rows : \", len(data_lab_spec_train.columns))"
   ]
  },
  {
   "cell_type": "code",
   "execution_count": 45,
   "metadata": {},
   "outputs": [
    {
     "data": {
      "image/png": "[encoded data removed]",
      "text/plain": [
       "<Figure size 432x288 with 1 Axes>"
      ]
     },
     "metadata": {
      "needs_background": "light"
     },
     "output_type": "display_data"
    }
   ],
   "source": [
    "info = 'mean'\n",
    "info_lab_spec_train = data_lab_spec_train.describe()\n",
    "info_lab_conc_train = data_lab_conc_train\n",
    "info_lab_conc_train[info] = info_lab_spec_train.loc[[info]].values.ravel()\n",
    "info_lab_conc_train = info_lab_conc_train.sort_values(\"(NH4)SO4\", ascending=True).reset_index(drop=True)\n",
    "plt.plot(info_lab_conc_train['(NH4)SO4'], info_lab_conc_train[info])\n",
    "plt.xlabel('Concentration')\n",
    "plt.ylabel('Spectra statistics')\n",
    "plt.show()"
   ]
  },
  {
   "cell_type": "markdown",
   "metadata": {},
   "source": [
    "## Saving the cleaned data"
   ]
  },
  {
   "cell_type": "markdown",
   "metadata": {},
   "source": [
    "Saving the processed data as arrays (without any labels), to be input of the machine learning models."
   ]
  },
  {
   "cell_type": "code",
   "execution_count": 46,
   "metadata": {},
   "outputs": [
    {
     "name": "stdout",
     "output_type": "stream",
     "text": [
      "(2784, 144)\n",
      "(144,)\n"
     ]
    }
   ],
   "source": [
    "mat_lab_spec_train = data_lab_spec_train.reset_index(drop=True).to_numpy()\n",
    "mat_lab_spec_test = data_lab_spec_test.reset_index(drop=True).to_numpy()\n",
    "\n",
    "mat_lab_conc_train = data_lab_conc_train['(NH4)SO4'].reset_index(drop=True).to_numpy()\n",
    "mat_lab_conc_test = data_lab_conc_test['(NH4)SO4'].reset_index(drop=True).to_numpy()\n",
    "\n",
    "ind_lab_conc_train = data_lab_conc_train['Sites'].reset_index(drop=True)\n",
    "ind_lab_conc_test = data_lab_conc_test['Sites'].reset_index(drop=True)\n",
    "\n",
    "print(mat_lab_spec_train.shape)\n",
    "print(mat_lab_conc_train.shape)\n",
    "\n",
    "print(mat_lab_spec_test.shape)\n",
    "print(mat_lab_conc_test.shape)\n",
    "\n",
    "np.savetxt(OUTPUT_LAB_SPEC_TRAIN, mat_lab_spec_train, delimiter=',')\n",
    "np.savetxt(OUTPUT_LAB_CONC_TRAIN, mat_lab_conc_train, delimiter=',')\n",
    "np.savetxt(OUTPUT_LAB_SPEC_TEST, mat_lab_spec_test, delimiter=',')\n",
    "np.savetxt(OUTPUT_LAB_CONC_TEST, mat_lab_conc_test, delimiter=',')\n",
    "\n",
    "ind_lab_conc_train.to_csv(INDEX_LAB_CONC_TRAIN, sep=',')\n",
    "ind_lab_conc_test.to_csv(INDEX_LAB_CONC_TEST, sep=',')"
   ]
  },
  {
   "cell_type": "code",
   "execution_count": null,
   "metadata": {},
   "outputs": [],
   "source": []
  },
  {
   "cell_type": "code",
   "execution_count": null,
   "metadata": {},
   "outputs": [],
   "source": []
  }
 ],
 "metadata": {
  "kernelspec": {
   "display_name": "Python 3",
   "language": "python",
   "name": "python3"
  },
  "language_info": {
   "codemirror_mode": {
    "name": "ipython",
    "version": 3
   },
   "file_extension": ".py",
   "mimetype": "text/x-python",
   "name": "python",
   "nbconvert_exporter": "python",
   "pygments_lexer": "ipython3",
   "version": "3.7.3"
  }
 },
 "nbformat": 4,
 "nbformat_minor": 2
}
