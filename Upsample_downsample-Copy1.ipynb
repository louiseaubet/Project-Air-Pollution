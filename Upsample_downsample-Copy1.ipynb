{
 "cells": [
  {
   "cell_type": "code",
   "execution_count": 4,
   "metadata": {},
   "outputs": [],
   "source": [
    "import numpy as np\n",
    "import csv\n",
    "import pandas as pd\n",
    "import matplotlib.pyplot as plt\n",
    "plt.rcParams.update({'font.size': 14})\n",
    "\n",
    "from sys import stdout\n",
    "\n",
    "from helpers import *"
   ]
  },
  {
   "cell_type": "markdown",
   "metadata": {},
   "source": [
    "# Loading the data"
   ]
  },
  {
   "cell_type": "code",
   "execution_count": 5,
   "metadata": {},
   "outputs": [],
   "source": [
    "ROOT_FOLDER = \"../\"\n",
    "DATA_FOLDER = \"data/processed/\"\n",
    "\n",
    "INPUT_LAB_SPEC_TRAIN = ROOT_FOLDER + DATA_FOLDER + \"input_lab_spec_train.csv\"\n",
    "INPUT_LAB_SPEC_TEST = ROOT_FOLDER + DATA_FOLDER + \"input_lab_spec_test.csv\"\n",
    "\n",
    "INPUT_LAB_CONC_TRAIN = ROOT_FOLDER + DATA_FOLDER + \"input_lab_conc_train.csv\"\n",
    "INPUT_LAB_CONC_TEST = ROOT_FOLDER + DATA_FOLDER + \"input_lab_conc_test.csv\"\n",
    "\n",
    "INPUT_AMB_SPEC = ROOT_FOLDER + DATA_FOLDER + \"input_amb_spec.csv\"\n",
    "INPUT_AMB_CONC = ROOT_FOLDER + DATA_FOLDER + \"input_amb_conc.csv\""
   ]
  },
  {
   "cell_type": "code",
   "execution_count": 9,
   "metadata": {},
   "outputs": [
    {
     "name": "stdout",
     "output_type": "stream",
     "text": [
      "(218, 2784)\n",
      "(218,)\n"
     ]
    }
   ],
   "source": [
    "# Import Laboratory data\n",
    "\n",
    "file_lab_spec_train = pd.read_csv(INPUT_LAB_SPEC_TRAIN, header=None)\n",
    "file_lab_spec_test = pd.read_csv(INPUT_LAB_SPEC_TEST, header=None)\n",
    "file_lab_conc_train = pd.read_csv(INPUT_LAB_CONC_TRAIN, header=None)\n",
    "file_lab_conc_test = pd.read_csv(INPUT_LAB_CONC_TEST, header=None)\n",
    "\n",
    "X_lab_train = pd.DataFrame(file_lab_spec_train).values.T\n",
    "y_lab_train = pd.DataFrame(file_lab_conc_train).values.ravel()\n",
    "\n",
    "X_lab_test = pd.DataFrame(file_lab_spec_test).values.T\n",
    "y_lab_test = pd.DataFrame(file_lab_conc_test).values.ravel()\n",
    "\n",
    "X_lab = np.append(X_lab_train, X_lab_test, axis=0)\n",
    "y_lab = np.append(y_lab_train, y_lab_test)\n",
    "\n",
    "print(X_lab.shape)\n",
    "print(y_lab.shape)"
   ]
  },
  {
   "cell_type": "code",
   "execution_count": 7,
   "metadata": {},
   "outputs": [
    {
     "name": "stdout",
     "output_type": "stream",
     "text": [
      "(2230, 2784)\n",
      "(2230,)\n"
     ]
    }
   ],
   "source": [
    "# Import Ambient data\n",
    "\n",
    "file_amb_spec = pd.read_csv(INPUT_AMB_SPEC, header=None)\n",
    "file_amb_conc = pd.read_csv(INPUT_AMB_CONC, header=None)\n",
    "\n",
    "X_amb = pd.DataFrame(file_amb_spec).values.T\n",
    "y_amb = pd.DataFrame(file_amb_conc).values.ravel()\n",
    "\n",
    "print(X_amb.shape)\n",
    "print(y_amb.shape)"
   ]
  },
  {
   "cell_type": "markdown",
   "metadata": {},
   "source": [
    "# Upsampling laboratory train set"
   ]
  },
  {
   "cell_type": "code",
   "execution_count": 9,
   "metadata": {},
   "outputs": [
    {
     "name": "stdout",
     "output_type": "stream",
     "text": [
      "Number of laboratory samples :  241\n",
      "Number of laboratory samples :  4304\n"
     ]
    }
   ],
   "source": [
    "print(\"Number of laboratory samples : \", len(data_lab_conc))\n",
    "print(\"Number of laboratory samples : \", len(data_amb_conc))"
   ]
  },
  {
   "cell_type": "markdown",
   "metadata": {},
   "source": [
    "We first start to upsample laboratory samples to obtain approximately the same number of samples between lab and amb. We need to multiply by 10 the number of laboratory samples.\n",
    "\n",
    "Idea : Replicate the concentrations and apply a randomly disturbance within 5% of the initial concentration."
   ]
  },
  {
   "cell_type": "code",
   "execution_count": 10,
   "metadata": {},
   "outputs": [],
   "source": [
    "X_amb = pd.DataFrame(X_amb)\n",
    "X_amb['concentration'] = y_amb\n",
    "X_amb['category'] = 'amb'\n",
    "\n",
    "X_lab = pd.DataFrame(X_lab)\n",
    "X_lab['concentration'] = y_lab\n",
    "X_lab['category'] = 'lab'"
   ]
  },
  {
   "cell_type": "code",
   "execution_count": 16,
   "metadata": {},
   "outputs": [],
   "source": [
    "X = X_lab.append(X_amb)\n",
    "y = X['category']\n",
    "del X['category']"
   ]
  },
  {
   "cell_type": "code",
   "execution_count": 17,
   "metadata": {},
   "outputs": [
    {
     "name": "stdout",
     "output_type": "stream",
     "text": [
      "[('amb', 2230), ('lab', 2230)]\n"
     ]
    }
   ],
   "source": [
    "from imblearn.over_sampling import SMOTE\n",
    "\n",
    "X_resampled, y_resampled = SMOTE().fit_resample(X, y)\n",
    "\n",
    "# Count instances of each class\n",
    "from collections import Counter\n",
    "\n",
    "print(sorted(Counter(y_resampled).items()))"
   ]
  },
  {
   "cell_type": "code",
   "execution_count": null,
   "metadata": {},
   "outputs": [],
   "source": []
  },
  {
   "cell_type": "code",
   "execution_count": null,
   "metadata": {},
   "outputs": [],
   "source": []
  },
  {
   "cell_type": "code",
   "execution_count": null,
   "metadata": {},
   "outputs": [],
   "source": []
  },
  {
   "cell_type": "code",
   "execution_count": null,
   "metadata": {},
   "outputs": [],
   "source": []
  },
  {
   "cell_type": "markdown",
   "metadata": {},
   "source": [
    "Sometimes we want to sample in an ublanaced way, so that we upsample datapoints of certain characteristic, and downsample the others. This can be achieved with weights parameter."
   ]
  },
  {
   "cell_type": "code",
   "execution_count": 9,
   "metadata": {},
   "outputs": [],
   "source": [
    "#make 10 samples without replacement\n",
    "#sample1 = df.sample(n = 10, replace = False)\n",
    "\n",
    "data_lab_conc_up = data_lab_conc.sample(frac=5, replace=True, random_state=1, \\\n",
    "                                        weights=data_lab_conc['(NH4)SO4'])\n",
    "\n",
    "data_amb_conc_up = data_amb_conc.sample(frac=0.5, replace=True, random_state=1, \\\n",
    "                                        weights=data_amb_conc['(NH4)SO4'])"
   ]
  },
  {
   "cell_type": "code",
   "execution_count": null,
   "metadata": {},
   "outputs": [],
   "source": []
  },
  {
   "cell_type": "code",
   "execution_count": null,
   "metadata": {},
   "outputs": [],
   "source": []
  },
  {
   "cell_type": "code",
   "execution_count": null,
   "metadata": {},
   "outputs": [],
   "source": []
  }
 ],
 "metadata": {
  "kernelspec": {
   "display_name": "Python 3",
   "language": "python",
   "name": "python3"
  },
  "language_info": {
   "codemirror_mode": {
    "name": "ipython",
    "version": 3
   },
   "file_extension": ".py",
   "mimetype": "text/x-python",
   "name": "python",
   "nbconvert_exporter": "python",
   "pygments_lexer": "ipython3",
   "version": "3.7.3"
  }
 },
 "nbformat": 4,
 "nbformat_minor": 4
}
