{
 "cells": [
  {
   "cell_type": "code",
   "execution_count": 1,
   "metadata": {},
   "outputs": [],
   "source": [
    "import numpy as np\n",
    "import csv\n",
    "import pandas as pd\n",
    "import matplotlib.pyplot as plt\n",
    "plt.rcParams.update({'font.size': 14})\n",
    "\n",
    "from sklearn.cross_decomposition import PLSRegression\n",
    "from sklearn.metrics import mean_squared_error\n",
    "from sklearn.model_selection import cross_val_predict, cross_val_score\n",
    "\n",
    "import plotly.io as pio\n",
    "import plotly.express as px\n",
    "import plotly.graph_objects as go\n",
    "pio.templates.default = \"plotly_white\"\n",
    "\n",
    "from sys import stdout\n",
    "\n",
    "from helpers import *\n",
    "from data_preprocessing import *\n",
    "from model import *"
   ]
  },
  {
   "cell_type": "code",
   "execution_count": 3,
   "metadata": {},
   "outputs": [],
   "source": [
    "DATA_FOLDER = \"../outputs/Corrected/\"\n",
    "\n",
    "INPUT_M3 = DATA_FOLDER + \"M3/M3_data_test_pred.csv\"\n",
    "INPUT_M4 = DATA_FOLDER + \"M4/M4_data_test_pred.csv\"\n",
    "\n",
    "file = pd.read_csv(INPUT_M3, index_col=\"Unnamed: 0\")\n",
    "data_test_M3 = pd.DataFrame(file)\n",
    "\n",
    "file = pd.read_csv(INPUT_M4, index_col=\"Unnamed: 0\")\n",
    "data_test_M4 = pd.DataFrame(file)"
   ]
  },
  {
   "cell_type": "code",
   "execution_count": 4,
   "metadata": {},
   "outputs": [],
   "source": [
    "def compute_bias(data):\n",
    "    data['Error'] = data['Concentration']-data['Prediction']\n",
    "    mean_lab_bias = data['Error'].loc[data['Label'] == 'lab'].mean()\n",
    "    mean_amb_bias = data['Error'].loc[data['Label'] == 'amb'].mean()\n",
    "    median_lab_bias = data['Error'].loc[data['Label'] == 'lab'].median()\n",
    "    median_amb_bias = data['Error'].loc[data['Label'] == 'amb'].median()\n",
    "    return mean_amb_bias, mean_lab_bias, median_amb_bias, median_lab_bias"
   ]
  },
  {
   "cell_type": "code",
   "execution_count": 5,
   "metadata": {},
   "outputs": [],
   "source": [
    "def compute_rmse(data):\n",
    "    data['Error'] = (data['Concentration']-data['Prediction']).pow(2)\n",
    "    rmse = np.sqrt(data['Error'].mean())\n",
    "    return rmse"
   ]
  },
  {
   "cell_type": "code",
   "execution_count": 6,
   "metadata": {},
   "outputs": [],
   "source": [
    "def compute_corr(data):\n",
    "    corr_lab = data['Concentration'].loc[data['Label'] == 'lab'].corr(data['Prediction'].loc[data['Label'] == 'lab'])\n",
    "    corr_amb = data['Concentration'].loc[data['Label'] == 'amb'].corr(data['Prediction'].loc[data['Label'] == 'amb'])\n",
    "    return corr_lab, corr_amb"
   ]
  },
  {
   "cell_type": "code",
   "execution_count": 7,
   "metadata": {},
   "outputs": [],
   "source": [
    "mean_amb_bias_M1, mean_lab_bias_M1, median_amb_bias_M1, median_lab_bias_M1 = compute_bias(data_test_M3)\n",
    "mean_amb_bias_M4, mean_lab_bias_M4, median_amb_bias_M4, median_lab_bias_M4 = compute_bias(data_test_M4)"
   ]
  },
  {
   "cell_type": "code",
   "execution_count": 9,
   "metadata": {},
   "outputs": [
    {
     "name": "stdout",
     "output_type": "stream",
     "text": [
      "Mean bias :\n",
      "0.32309849327474516\n",
      "5.708203866415695\n"
     ]
    }
   ],
   "source": [
    "print(\"Mean bias :\")\n",
    "print(mean_amb_bias_M1)\n",
    "print(mean_amb_bias_M4)"
   ]
  },
  {
   "cell_type": "code",
   "execution_count": 10,
   "metadata": {},
   "outputs": [
    {
     "name": "stdout",
     "output_type": "stream",
     "text": [
      "Median bias :\n",
      "-0.0585912597411129\n",
      "4.652079773598976\n"
     ]
    }
   ],
   "source": [
    "print(\"Median bias :\")\n",
    "print(median_amb_bias_M1)\n",
    "print(median_amb_bias_M4)"
   ]
  },
  {
   "cell_type": "code",
   "execution_count": 12,
   "metadata": {},
   "outputs": [],
   "source": [
    "corr_lab_M1, corr_amb_M1 = compute_corr(data_test_M1)\n",
    "corr_lab_M4, corr_amb_M4 = compute_corr(data_test_M4)"
   ]
  },
  {
   "cell_type": "code",
   "execution_count": 14,
   "metadata": {},
   "outputs": [
    {
     "name": "stdout",
     "output_type": "stream",
     "text": [
      "Correlation :\n",
      "Lab :  0.9990589219896489 , Amb :  0.7265928679532462\n",
      "Lab :  0.9992651644583233 , Amb :  0.7264928414621629\n"
     ]
    }
   ],
   "source": [
    "print(\"Correlation :\")\n",
    "print(\"Lab : \", corr_lab_M1, \", Amb : \", corr_amb_M1)\n",
    "print(\"Lab : \", corr_lab_M4, \", Amb : \", corr_amb_M4)"
   ]
  },
  {
   "cell_type": "code",
   "execution_count": 14,
   "metadata": {},
   "outputs": [],
   "source": [
    "rmse_M1 = compute_rmse(data_test_M1)\n",
    "rmse_M4 = compute_rmse(data_test_M4)"
   ]
  },
  {
   "cell_type": "code",
   "execution_count": 15,
   "metadata": {},
   "outputs": [
    {
     "name": "stdout",
     "output_type": "stream",
     "text": [
      "18.057291514388954\n",
      "10.760445006305572\n"
     ]
    }
   ],
   "source": [
    "print(rmse_M1)\n",
    "print(rmse_M4)"
   ]
  },
  {
   "cell_type": "code",
   "execution_count": null,
   "metadata": {},
   "outputs": [],
   "source": []
  }
 ],
 "metadata": {
  "kernelspec": {
   "display_name": "Python 3",
   "language": "python",
   "name": "python3"
  },
  "language_info": {
   "codemirror_mode": {
    "name": "ipython",
    "version": 3
   },
   "file_extension": ".py",
   "mimetype": "text/x-python",
   "name": "python",
   "nbconvert_exporter": "python",
   "pygments_lexer": "ipython3",
   "version": "3.8.5"
  }
 },
 "nbformat": 4,
 "nbformat_minor": 4
}
